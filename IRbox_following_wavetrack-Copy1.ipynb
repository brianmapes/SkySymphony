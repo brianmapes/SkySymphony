{
 "cells": [
  {
   "cell_type": "markdown",
   "id": "d64a0daf-714b-4e38-b09a-95acfc5dcb0c",
   "metadata": {},
   "source": [
    "### Basic code to read easterly wave tracks by Lawton et al (2022) and plot a track that matches user specified tropical storm (if available in the track database)\n",
    "\n",
    "- Lawton, Q. A., S. J. Majumdar, K. Dotterer, C. Thorncroft, and C. J. Schreck, 2022: The Influence of Convectively Coupled Kelvin Waves on African Easterly Waves in a Wave-Following Framework. Monthly Weather Review, 150(8), 2055-2072, https://doi.org/10.1175/MWR-D-21-0321.1.\n",
    "\n",
    "#### Then, a track following IR loop is assembled and displayed \n",
    "\n",
    "- NCSU Tropical and Large Scale Dynamics\n",
    "- A. Aiyyer\n",
    "\n",
    "\n",
    "### Other finer scale datasets: \n",
    "\n",
    "https://user.eumetsat.int/catalogue\n",
    "\n",
    "### **MERGEDIR:** 4km, half hourly \n",
    "https://disc.gsfc.nasa.gov/datasets/GPM_MERGIR_1/summary?keywords=MERGEDIR. \n",
    "\n",
    "OpenDAP format: https://disc2.gesdisc.eosdis.nasa.gov/opendap/MERGED_IR/GPM_MERGIR.1/2012/200/merg_2012071800_4km-pixel.nc4.dap.nc4"
   ]
  },
  {
   "cell_type": "code",
   "execution_count": 12,
   "id": "e9280e98-9074-4358-bf03-8ce5fea8b0db",
   "metadata": {},
   "outputs": [],
   "source": [
    "import numpy as np\n",
    "import xarray as xr\n",
    "from datetime import date, timedelta, datetime\n",
    "import pandas as pd\n",
    "import matplotlib.pyplot as plt\n",
    "import cartopy.crs as ccrs\n",
    "import cartopy.feature as cfeature\n",
    "\n",
    "import matplotlib.animation as animation\n",
    "# convert the animation to javascript for display\n",
    "#plt.rcParams[\"animation.html\"] = \"jshtml\"\n",
    "import geocat.viz.util as gvutil\n",
    "from cartopy.mpl.gridliner import LONGITUDE_FORMATTER, LATITUDE_FORMATTER\n",
    "from cartopy.mpl.ticker import LongitudeFormatter, LatitudeFormatter\n",
    "plt.rcParams['animation.embed_limit'] = 2**128\n",
    "from metpy.plots import colortables"
   ]
  },
  {
   "cell_type": "code",
   "execution_count": 13,
   "id": "b53caaf4-5a26-4e73-93d5-ef56c8acc5c7",
   "metadata": {},
   "outputs": [],
   "source": [
    "# get the easterly wave track data from https://zenodo.org/records/13350860\n",
    "\n",
    "# location of the data on the local machine:\n",
    "track_data_path = \"/Users/bmapes/GitHub/SkySymphony/ERA5_AEW_TRACKS/\"\n",
    "file_prefix = \"AEW_tracks_post_processed_year_\""
   ]
  },
  {
   "cell_type": "code",
   "execution_count": 14,
   "id": "4913cb92-0ba4-4ef4-8e83-9a09cb6bda44",
   "metadata": {},
   "outputs": [],
   "source": [
    "# Select storm \n",
    "storm_Name = \"DOLLY\"\n",
    "storm_Year = 2008\n",
    "\n",
    "# Select storm\n",
    "storm_Name = \"IRMA\"\n",
    "storm_Year = 2017\n",
    "\n",
    "# Select storm\n",
    "storm_Name = \"ERNESTO\"\n",
    "storm_Year = 2012\n",
    "\n",
    "# Other good long-track ones, from the time-lon perusals \n",
    "# Ian 2022, Dolly 2014, Chantal 2013, Harvey 2011 parade? Fiona 2010 parade? Fred 2009 from 40E, \n",
    "# Dolly 2008, Ike 2008 parade, Dean 2007, Ernesto 2006, Frances 2005 parade?, \n",
    "# Grace 2003, Emily or Floyd 1999"
   ]
  },
  {
   "cell_type": "code",
   "execution_count": 15,
   "id": "30b157ce-3b54-4114-a5b1-7fd6d2f6e4d3",
   "metadata": {},
   "outputs": [
    {
     "data": {
      "text/html": [
       "<div><svg style=\"position: absolute; width: 0; height: 0; overflow: hidden\">\n",
       "<defs>\n",
       "<symbol id=\"icon-database\" viewBox=\"0 0 32 32\">\n",
       "<path d=\"M16 0c-8.837 0-16 2.239-16 5v4c0 2.761 7.163 5 16 5s16-2.239 16-5v-4c0-2.761-7.163-5-16-5z\"></path>\n",
       "<path d=\"M16 17c-8.837 0-16-2.239-16-5v6c0 2.761 7.163 5 16 5s16-2.239 16-5v-6c0 2.761-7.163 5-16 5z\"></path>\n",
       "<path d=\"M16 26c-8.837 0-16-2.239-16-5v6c0 2.761 7.163 5 16 5s16-2.239 16-5v-6c0 2.761-7.163 5-16 5z\"></path>\n",
       "</symbol>\n",
       "<symbol id=\"icon-file-text2\" viewBox=\"0 0 32 32\">\n",
       "<path d=\"M28.681 7.159c-0.694-0.947-1.662-2.053-2.724-3.116s-2.169-2.030-3.116-2.724c-1.612-1.182-2.393-1.319-2.841-1.319h-15.5c-1.378 0-2.5 1.121-2.5 2.5v27c0 1.378 1.122 2.5 2.5 2.5h23c1.378 0 2.5-1.122 2.5-2.5v-19.5c0-0.448-0.137-1.23-1.319-2.841zM24.543 5.457c0.959 0.959 1.712 1.825 2.268 2.543h-4.811v-4.811c0.718 0.556 1.584 1.309 2.543 2.268zM28 29.5c0 0.271-0.229 0.5-0.5 0.5h-23c-0.271 0-0.5-0.229-0.5-0.5v-27c0-0.271 0.229-0.5 0.5-0.5 0 0 15.499-0 15.5 0v7c0 0.552 0.448 1 1 1h7v19.5z\"></path>\n",
       "<path d=\"M23 26h-14c-0.552 0-1-0.448-1-1s0.448-1 1-1h14c0.552 0 1 0.448 1 1s-0.448 1-1 1z\"></path>\n",
       "<path d=\"M23 22h-14c-0.552 0-1-0.448-1-1s0.448-1 1-1h14c0.552 0 1 0.448 1 1s-0.448 1-1 1z\"></path>\n",
       "<path d=\"M23 18h-14c-0.552 0-1-0.448-1-1s0.448-1 1-1h14c0.552 0 1 0.448 1 1s-0.448 1-1 1z\"></path>\n",
       "</symbol>\n",
       "</defs>\n",
       "</svg>\n",
       "<style>/* CSS stylesheet for displaying xarray objects in jupyterlab.\n",
       " *\n",
       " */\n",
       "\n",
       ":root {\n",
       "  --xr-font-color0: var(--jp-content-font-color0, rgba(0, 0, 0, 1));\n",
       "  --xr-font-color2: var(--jp-content-font-color2, rgba(0, 0, 0, 0.54));\n",
       "  --xr-font-color3: var(--jp-content-font-color3, rgba(0, 0, 0, 0.38));\n",
       "  --xr-border-color: var(--jp-border-color2, #e0e0e0);\n",
       "  --xr-disabled-color: var(--jp-layout-color3, #bdbdbd);\n",
       "  --xr-background-color: var(--jp-layout-color0, white);\n",
       "  --xr-background-color-row-even: var(--jp-layout-color1, white);\n",
       "  --xr-background-color-row-odd: var(--jp-layout-color2, #eeeeee);\n",
       "}\n",
       "\n",
       "html[theme=\"dark\"],\n",
       "html[data-theme=\"dark\"],\n",
       "body[data-theme=\"dark\"],\n",
       "body.vscode-dark {\n",
       "  --xr-font-color0: rgba(255, 255, 255, 1);\n",
       "  --xr-font-color2: rgba(255, 255, 255, 0.54);\n",
       "  --xr-font-color3: rgba(255, 255, 255, 0.38);\n",
       "  --xr-border-color: #1f1f1f;\n",
       "  --xr-disabled-color: #515151;\n",
       "  --xr-background-color: #111111;\n",
       "  --xr-background-color-row-even: #111111;\n",
       "  --xr-background-color-row-odd: #313131;\n",
       "}\n",
       "\n",
       ".xr-wrap {\n",
       "  display: block !important;\n",
       "  min-width: 300px;\n",
       "  max-width: 700px;\n",
       "}\n",
       "\n",
       ".xr-text-repr-fallback {\n",
       "  /* fallback to plain text repr when CSS is not injected (untrusted notebook) */\n",
       "  display: none;\n",
       "}\n",
       "\n",
       ".xr-header {\n",
       "  padding-top: 6px;\n",
       "  padding-bottom: 6px;\n",
       "  margin-bottom: 4px;\n",
       "  border-bottom: solid 1px var(--xr-border-color);\n",
       "}\n",
       "\n",
       ".xr-header > div,\n",
       ".xr-header > ul {\n",
       "  display: inline;\n",
       "  margin-top: 0;\n",
       "  margin-bottom: 0;\n",
       "}\n",
       "\n",
       ".xr-obj-type,\n",
       ".xr-array-name {\n",
       "  margin-left: 2px;\n",
       "  margin-right: 10px;\n",
       "}\n",
       "\n",
       ".xr-obj-type {\n",
       "  color: var(--xr-font-color2);\n",
       "}\n",
       "\n",
       ".xr-sections {\n",
       "  padding-left: 0 !important;\n",
       "  display: grid;\n",
       "  grid-template-columns: 150px auto auto 1fr 0 20px 0 20px;\n",
       "}\n",
       "\n",
       ".xr-section-item {\n",
       "  display: contents;\n",
       "}\n",
       "\n",
       ".xr-section-item input {\n",
       "  display: inline-block;\n",
       "  opacity: 0;\n",
       "  height: 0;\n",
       "}\n",
       "\n",
       ".xr-section-item input + label {\n",
       "  color: var(--xr-disabled-color);\n",
       "}\n",
       "\n",
       ".xr-section-item input:enabled + label {\n",
       "  cursor: pointer;\n",
       "  color: var(--xr-font-color2);\n",
       "}\n",
       "\n",
       ".xr-section-item input:focus + label {\n",
       "  border: 2px solid var(--xr-font-color0);\n",
       "}\n",
       "\n",
       ".xr-section-item input:enabled + label:hover {\n",
       "  color: var(--xr-font-color0);\n",
       "}\n",
       "\n",
       ".xr-section-summary {\n",
       "  grid-column: 1;\n",
       "  color: var(--xr-font-color2);\n",
       "  font-weight: 500;\n",
       "}\n",
       "\n",
       ".xr-section-summary > span {\n",
       "  display: inline-block;\n",
       "  padding-left: 0.5em;\n",
       "}\n",
       "\n",
       ".xr-section-summary-in:disabled + label {\n",
       "  color: var(--xr-font-color2);\n",
       "}\n",
       "\n",
       ".xr-section-summary-in + label:before {\n",
       "  display: inline-block;\n",
       "  content: \"►\";\n",
       "  font-size: 11px;\n",
       "  width: 15px;\n",
       "  text-align: center;\n",
       "}\n",
       "\n",
       ".xr-section-summary-in:disabled + label:before {\n",
       "  color: var(--xr-disabled-color);\n",
       "}\n",
       "\n",
       ".xr-section-summary-in:checked + label:before {\n",
       "  content: \"▼\";\n",
       "}\n",
       "\n",
       ".xr-section-summary-in:checked + label > span {\n",
       "  display: none;\n",
       "}\n",
       "\n",
       ".xr-section-summary,\n",
       ".xr-section-inline-details {\n",
       "  padding-top: 4px;\n",
       "  padding-bottom: 4px;\n",
       "}\n",
       "\n",
       ".xr-section-inline-details {\n",
       "  grid-column: 2 / -1;\n",
       "}\n",
       "\n",
       ".xr-section-details {\n",
       "  display: none;\n",
       "  grid-column: 1 / -1;\n",
       "  margin-bottom: 5px;\n",
       "}\n",
       "\n",
       ".xr-section-summary-in:checked ~ .xr-section-details {\n",
       "  display: contents;\n",
       "}\n",
       "\n",
       ".xr-array-wrap {\n",
       "  grid-column: 1 / -1;\n",
       "  display: grid;\n",
       "  grid-template-columns: 20px auto;\n",
       "}\n",
       "\n",
       ".xr-array-wrap > label {\n",
       "  grid-column: 1;\n",
       "  vertical-align: top;\n",
       "}\n",
       "\n",
       ".xr-preview {\n",
       "  color: var(--xr-font-color3);\n",
       "}\n",
       "\n",
       ".xr-array-preview,\n",
       ".xr-array-data {\n",
       "  padding: 0 5px !important;\n",
       "  grid-column: 2;\n",
       "}\n",
       "\n",
       ".xr-array-data,\n",
       ".xr-array-in:checked ~ .xr-array-preview {\n",
       "  display: none;\n",
       "}\n",
       "\n",
       ".xr-array-in:checked ~ .xr-array-data,\n",
       ".xr-array-preview {\n",
       "  display: inline-block;\n",
       "}\n",
       "\n",
       ".xr-dim-list {\n",
       "  display: inline-block !important;\n",
       "  list-style: none;\n",
       "  padding: 0 !important;\n",
       "  margin: 0;\n",
       "}\n",
       "\n",
       ".xr-dim-list li {\n",
       "  display: inline-block;\n",
       "  padding: 0;\n",
       "  margin: 0;\n",
       "}\n",
       "\n",
       ".xr-dim-list:before {\n",
       "  content: \"(\";\n",
       "}\n",
       "\n",
       ".xr-dim-list:after {\n",
       "  content: \")\";\n",
       "}\n",
       "\n",
       ".xr-dim-list li:not(:last-child):after {\n",
       "  content: \",\";\n",
       "  padding-right: 5px;\n",
       "}\n",
       "\n",
       ".xr-has-index {\n",
       "  font-weight: bold;\n",
       "}\n",
       "\n",
       ".xr-var-list,\n",
       ".xr-var-item {\n",
       "  display: contents;\n",
       "}\n",
       "\n",
       ".xr-var-item > div,\n",
       ".xr-var-item label,\n",
       ".xr-var-item > .xr-var-name span {\n",
       "  background-color: var(--xr-background-color-row-even);\n",
       "  margin-bottom: 0;\n",
       "}\n",
       "\n",
       ".xr-var-item > .xr-var-name:hover span {\n",
       "  padding-right: 5px;\n",
       "}\n",
       "\n",
       ".xr-var-list > li:nth-child(odd) > div,\n",
       ".xr-var-list > li:nth-child(odd) > label,\n",
       ".xr-var-list > li:nth-child(odd) > .xr-var-name span {\n",
       "  background-color: var(--xr-background-color-row-odd);\n",
       "}\n",
       "\n",
       ".xr-var-name {\n",
       "  grid-column: 1;\n",
       "}\n",
       "\n",
       ".xr-var-dims {\n",
       "  grid-column: 2;\n",
       "}\n",
       "\n",
       ".xr-var-dtype {\n",
       "  grid-column: 3;\n",
       "  text-align: right;\n",
       "  color: var(--xr-font-color2);\n",
       "}\n",
       "\n",
       ".xr-var-preview {\n",
       "  grid-column: 4;\n",
       "}\n",
       "\n",
       ".xr-index-preview {\n",
       "  grid-column: 2 / 5;\n",
       "  color: var(--xr-font-color2);\n",
       "}\n",
       "\n",
       ".xr-var-name,\n",
       ".xr-var-dims,\n",
       ".xr-var-dtype,\n",
       ".xr-preview,\n",
       ".xr-attrs dt {\n",
       "  white-space: nowrap;\n",
       "  overflow: hidden;\n",
       "  text-overflow: ellipsis;\n",
       "  padding-right: 10px;\n",
       "}\n",
       "\n",
       ".xr-var-name:hover,\n",
       ".xr-var-dims:hover,\n",
       ".xr-var-dtype:hover,\n",
       ".xr-attrs dt:hover {\n",
       "  overflow: visible;\n",
       "  width: auto;\n",
       "  z-index: 1;\n",
       "}\n",
       "\n",
       ".xr-var-attrs,\n",
       ".xr-var-data,\n",
       ".xr-index-data {\n",
       "  display: none;\n",
       "  background-color: var(--xr-background-color) !important;\n",
       "  padding-bottom: 5px !important;\n",
       "}\n",
       "\n",
       ".xr-var-attrs-in:checked ~ .xr-var-attrs,\n",
       ".xr-var-data-in:checked ~ .xr-var-data,\n",
       ".xr-index-data-in:checked ~ .xr-index-data {\n",
       "  display: block;\n",
       "}\n",
       "\n",
       ".xr-var-data > table {\n",
       "  float: right;\n",
       "}\n",
       "\n",
       ".xr-var-name span,\n",
       ".xr-var-data,\n",
       ".xr-index-name div,\n",
       ".xr-index-data,\n",
       ".xr-attrs {\n",
       "  padding-left: 25px !important;\n",
       "}\n",
       "\n",
       ".xr-attrs,\n",
       ".xr-var-attrs,\n",
       ".xr-var-data,\n",
       ".xr-index-data {\n",
       "  grid-column: 1 / -1;\n",
       "}\n",
       "\n",
       "dl.xr-attrs {\n",
       "  padding: 0;\n",
       "  margin: 0;\n",
       "  display: grid;\n",
       "  grid-template-columns: 125px auto;\n",
       "}\n",
       "\n",
       ".xr-attrs dt,\n",
       ".xr-attrs dd {\n",
       "  padding: 0;\n",
       "  margin: 0;\n",
       "  float: left;\n",
       "  padding-right: 10px;\n",
       "  width: auto;\n",
       "}\n",
       "\n",
       ".xr-attrs dt {\n",
       "  font-weight: normal;\n",
       "  grid-column: 1;\n",
       "}\n",
       "\n",
       ".xr-attrs dt:hover span {\n",
       "  display: inline-block;\n",
       "  background: var(--xr-background-color);\n",
       "  padding-right: 10px;\n",
       "}\n",
       "\n",
       ".xr-attrs dd {\n",
       "  grid-column: 2;\n",
       "  white-space: pre-wrap;\n",
       "  word-break: break-all;\n",
       "}\n",
       "\n",
       ".xr-icon-database,\n",
       ".xr-icon-file-text2,\n",
       ".xr-no-icon {\n",
       "  display: inline-block;\n",
       "  vertical-align: middle;\n",
       "  width: 1em;\n",
       "  height: 1.5em !important;\n",
       "  stroke-width: 0;\n",
       "  stroke: currentColor;\n",
       "  fill: currentColor;\n",
       "}\n",
       "</style><pre class='xr-text-repr-fallback'>&lt;xarray.Dataset&gt; Size: 3MB\n",
       "Dimensions:         (latitude: 80, longitude: 180, time: 612, system: 68)\n",
       "Coordinates:\n",
       "  * latitude        (latitude) float64 640B 60.0 59.0 58.0 ... -17.0 -18.0 -19.0\n",
       "  * longitude       (longitude) float64 1kB -120.0 -119.0 -118.0 ... 58.0 59.0\n",
       "  * time            (time) datetime64[ns] 5kB 2012-06-01 ... 2012-10-31T18:00:00\n",
       "  * system          (system) float64 544B 1.0 2.0 3.0 4.0 ... 66.0 67.0 68.0\n",
       "Data variables:\n",
       "    AEW_lon         (system, time) float64 333kB ...\n",
       "    AEW_lat         (system, time) float64 333kB ...\n",
       "    AEW_lon_smooth  (system, time) float64 333kB ...\n",
       "    AEW_lat_smooth  (system, time) float64 333kB ...\n",
       "    AEW_strength    (system, time) float64 333kB ...\n",
       "    TC_gen_time     (system) datetime64[ns] 544B ...\n",
       "    TC_name         (system) &lt;U8 2kB ...\n",
       "    curv_data_mean  (time, longitude) float64 881kB ...</pre><div class='xr-wrap' style='display:none'><div class='xr-header'><div class='xr-obj-type'>xarray.Dataset</div></div><ul class='xr-sections'><li class='xr-section-item'><input id='section-8094afcb-87f4-4ad8-a50b-03997ecdb20c' class='xr-section-summary-in' type='checkbox' disabled ><label for='section-8094afcb-87f4-4ad8-a50b-03997ecdb20c' class='xr-section-summary'  title='Expand/collapse section'>Dimensions:</label><div class='xr-section-inline-details'><ul class='xr-dim-list'><li><span class='xr-has-index'>latitude</span>: 80</li><li><span class='xr-has-index'>longitude</span>: 180</li><li><span class='xr-has-index'>time</span>: 612</li><li><span class='xr-has-index'>system</span>: 68</li></ul></div><div class='xr-section-details'></div></li><li class='xr-section-item'><input id='section-c0ade90b-fd56-46b7-acd3-a78b2e9fe17c' class='xr-section-summary-in' type='checkbox'  checked><label for='section-c0ade90b-fd56-46b7-acd3-a78b2e9fe17c' class='xr-section-summary' >Coordinates: <span>(4)</span></label><div class='xr-section-inline-details'></div><div class='xr-section-details'><ul class='xr-var-list'><li class='xr-var-item'><div class='xr-var-name'><span class='xr-has-index'>latitude</span></div><div class='xr-var-dims'>(latitude)</div><div class='xr-var-dtype'>float64</div><div class='xr-var-preview xr-preview'>60.0 59.0 58.0 ... -18.0 -19.0</div><input id='attrs-0a8c23ab-3d06-4783-a74e-49a0552ae15c' class='xr-var-attrs-in' type='checkbox' ><label for='attrs-0a8c23ab-3d06-4783-a74e-49a0552ae15c' title='Show/Hide attributes'><svg class='icon xr-icon-file-text2'><use xlink:href='#icon-file-text2'></use></svg></label><input id='data-47e375b6-8720-46d1-a5d0-bfee9836d953' class='xr-var-data-in' type='checkbox'><label for='data-47e375b6-8720-46d1-a5d0-bfee9836d953' title='Show/Hide data repr'><svg class='icon xr-icon-database'><use xlink:href='#icon-database'></use></svg></label><div class='xr-var-attrs'><dl class='xr-attrs'><dt><span>standard_name :</span></dt><dd>latitude</dd><dt><span>long_name :</span></dt><dd>latitude</dd><dt><span>units :</span></dt><dd>degrees_north</dd><dt><span>axis :</span></dt><dd>Y</dd></dl></div><div class='xr-var-data'><pre>array([ 60.,  59.,  58.,  57.,  56.,  55.,  54.,  53.,  52.,  51.,  50.,  49.,\n",
       "        48.,  47.,  46.,  45.,  44.,  43.,  42.,  41.,  40.,  39.,  38.,  37.,\n",
       "        36.,  35.,  34.,  33.,  32.,  31.,  30.,  29.,  28.,  27.,  26.,  25.,\n",
       "        24.,  23.,  22.,  21.,  20.,  19.,  18.,  17.,  16.,  15.,  14.,  13.,\n",
       "        12.,  11.,  10.,   9.,   8.,   7.,   6.,   5.,   4.,   3.,   2.,   1.,\n",
       "         0.,  -1.,  -2.,  -3.,  -4.,  -5.,  -6.,  -7.,  -8.,  -9., -10., -11.,\n",
       "       -12., -13., -14., -15., -16., -17., -18., -19.])</pre></div></li><li class='xr-var-item'><div class='xr-var-name'><span class='xr-has-index'>longitude</span></div><div class='xr-var-dims'>(longitude)</div><div class='xr-var-dtype'>float64</div><div class='xr-var-preview xr-preview'>-120.0 -119.0 -118.0 ... 58.0 59.0</div><input id='attrs-44240450-fc31-44a0-9bb5-5db5a963769f' class='xr-var-attrs-in' type='checkbox' ><label for='attrs-44240450-fc31-44a0-9bb5-5db5a963769f' title='Show/Hide attributes'><svg class='icon xr-icon-file-text2'><use xlink:href='#icon-file-text2'></use></svg></label><input id='data-2021e2e6-bd65-4696-b559-05e2ba3fcb11' class='xr-var-data-in' type='checkbox'><label for='data-2021e2e6-bd65-4696-b559-05e2ba3fcb11' title='Show/Hide data repr'><svg class='icon xr-icon-database'><use xlink:href='#icon-database'></use></svg></label><div class='xr-var-attrs'><dl class='xr-attrs'><dt><span>standard_name :</span></dt><dd>longitude</dd><dt><span>long_name :</span></dt><dd>longitude</dd><dt><span>units :</span></dt><dd>degrees_east</dd><dt><span>axis :</span></dt><dd>X</dd></dl></div><div class='xr-var-data'><pre>array([-120., -119., -118., -117., -116., -115., -114., -113., -112., -111.,\n",
       "       -110., -109., -108., -107., -106., -105., -104., -103., -102., -101.,\n",
       "       -100.,  -99.,  -98.,  -97.,  -96.,  -95.,  -94.,  -93.,  -92.,  -91.,\n",
       "        -90.,  -89.,  -88.,  -87.,  -86.,  -85.,  -84.,  -83.,  -82.,  -81.,\n",
       "        -80.,  -79.,  -78.,  -77.,  -76.,  -75.,  -74.,  -73.,  -72.,  -71.,\n",
       "        -70.,  -69.,  -68.,  -67.,  -66.,  -65.,  -64.,  -63.,  -62.,  -61.,\n",
       "        -60.,  -59.,  -58.,  -57.,  -56.,  -55.,  -54.,  -53.,  -52.,  -51.,\n",
       "        -50.,  -49.,  -48.,  -47.,  -46.,  -45.,  -44.,  -43.,  -42.,  -41.,\n",
       "        -40.,  -39.,  -38.,  -37.,  -36.,  -35.,  -34.,  -33.,  -32.,  -31.,\n",
       "        -30.,  -29.,  -28.,  -27.,  -26.,  -25.,  -24.,  -23.,  -22.,  -21.,\n",
       "        -20.,  -19.,  -18.,  -17.,  -16.,  -15.,  -14.,  -13.,  -12.,  -11.,\n",
       "        -10.,   -9.,   -8.,   -7.,   -6.,   -5.,   -4.,   -3.,   -2.,   -1.,\n",
       "          0.,    1.,    2.,    3.,    4.,    5.,    6.,    7.,    8.,    9.,\n",
       "         10.,   11.,   12.,   13.,   14.,   15.,   16.,   17.,   18.,   19.,\n",
       "         20.,   21.,   22.,   23.,   24.,   25.,   26.,   27.,   28.,   29.,\n",
       "         30.,   31.,   32.,   33.,   34.,   35.,   36.,   37.,   38.,   39.,\n",
       "         40.,   41.,   42.,   43.,   44.,   45.,   46.,   47.,   48.,   49.,\n",
       "         50.,   51.,   52.,   53.,   54.,   55.,   56.,   57.,   58.,   59.])</pre></div></li><li class='xr-var-item'><div class='xr-var-name'><span class='xr-has-index'>time</span></div><div class='xr-var-dims'>(time)</div><div class='xr-var-dtype'>datetime64[ns]</div><div class='xr-var-preview xr-preview'>2012-06-01 ... 2012-10-31T18:00:00</div><input id='attrs-5183cb4a-4757-4c27-a89e-be7c6ab1c67c' class='xr-var-attrs-in' type='checkbox' ><label for='attrs-5183cb4a-4757-4c27-a89e-be7c6ab1c67c' title='Show/Hide attributes'><svg class='icon xr-icon-file-text2'><use xlink:href='#icon-file-text2'></use></svg></label><input id='data-42a9629c-effc-4aee-8334-f75539fd892a' class='xr-var-data-in' type='checkbox'><label for='data-42a9629c-effc-4aee-8334-f75539fd892a' title='Show/Hide data repr'><svg class='icon xr-icon-database'><use xlink:href='#icon-database'></use></svg></label><div class='xr-var-attrs'><dl class='xr-attrs'><dt><span>long_name :</span></dt><dd>time</dd><dt><span>axis :</span></dt><dd>T</dd></dl></div><div class='xr-var-data'><pre>array([&#x27;2012-06-01T00:00:00.000000000&#x27;, &#x27;2012-06-01T06:00:00.000000000&#x27;,\n",
       "       &#x27;2012-06-01T12:00:00.000000000&#x27;, ..., &#x27;2012-10-31T06:00:00.000000000&#x27;,\n",
       "       &#x27;2012-10-31T12:00:00.000000000&#x27;, &#x27;2012-10-31T18:00:00.000000000&#x27;],\n",
       "      shape=(612,), dtype=&#x27;datetime64[ns]&#x27;)</pre></div></li><li class='xr-var-item'><div class='xr-var-name'><span class='xr-has-index'>system</span></div><div class='xr-var-dims'>(system)</div><div class='xr-var-dtype'>float64</div><div class='xr-var-preview xr-preview'>1.0 2.0 3.0 4.0 ... 66.0 67.0 68.0</div><input id='attrs-2c6bebec-0e21-4d8a-b1d7-0185d7865fe2' class='xr-var-attrs-in' type='checkbox' ><label for='attrs-2c6bebec-0e21-4d8a-b1d7-0185d7865fe2' title='Show/Hide attributes'><svg class='icon xr-icon-file-text2'><use xlink:href='#icon-file-text2'></use></svg></label><input id='data-173ce22d-6297-4b40-bef6-1c3203ec39bf' class='xr-var-data-in' type='checkbox'><label for='data-173ce22d-6297-4b40-bef6-1c3203ec39bf' title='Show/Hide data repr'><svg class='icon xr-icon-database'><use xlink:href='#icon-database'></use></svg></label><div class='xr-var-attrs'><dl class='xr-attrs'><dt><span>standard_name :</span></dt><dd>system</dd><dt><span>long_name :</span></dt><dd>system</dd><dt><span>units :</span></dt><dd>number</dd><dt><span>axis :</span></dt><dd>Y</dd></dl></div><div class='xr-var-data'><pre>array([ 1.,  2.,  3.,  4.,  5.,  6.,  7.,  8.,  9., 10., 11., 12., 13., 14.,\n",
       "       15., 16., 17., 18., 19., 20., 21., 22., 23., 24., 25., 26., 27., 28.,\n",
       "       29., 30., 31., 32., 33., 34., 35., 36., 37., 38., 39., 40., 41., 42.,\n",
       "       43., 44., 45., 46., 47., 48., 49., 50., 51., 52., 53., 54., 55., 56.,\n",
       "       57., 58., 59., 60., 61., 62., 63., 64., 65., 66., 67., 68.])</pre></div></li></ul></div></li><li class='xr-section-item'><input id='section-f1010786-10f0-46dc-93d7-75822047a2c1' class='xr-section-summary-in' type='checkbox'  checked><label for='section-f1010786-10f0-46dc-93d7-75822047a2c1' class='xr-section-summary' >Data variables: <span>(8)</span></label><div class='xr-section-inline-details'></div><div class='xr-section-details'><ul class='xr-var-list'><li class='xr-var-item'><div class='xr-var-name'><span>AEW_lon</span></div><div class='xr-var-dims'>(system, time)</div><div class='xr-var-dtype'>float64</div><div class='xr-var-preview xr-preview'>...</div><input id='attrs-3d57bff0-7b88-4d95-9775-def2748a2448' class='xr-var-attrs-in' type='checkbox' ><label for='attrs-3d57bff0-7b88-4d95-9775-def2748a2448' title='Show/Hide attributes'><svg class='icon xr-icon-file-text2'><use xlink:href='#icon-file-text2'></use></svg></label><input id='data-7c6411d6-52eb-410d-b2f8-9388020ec771' class='xr-var-data-in' type='checkbox'><label for='data-7c6411d6-52eb-410d-b2f8-9388020ec771' title='Show/Hide data repr'><svg class='icon xr-icon-database'><use xlink:href='#icon-database'></use></svg></label><div class='xr-var-attrs'><dl class='xr-attrs'><dt><span>long_name :</span></dt><dd>Longitude of AEW Tracks</dd><dt><span>units :</span></dt><dd>degrees</dd></dl></div><div class='xr-var-data'><pre>[41616 values with dtype=float64]</pre></div></li><li class='xr-var-item'><div class='xr-var-name'><span>AEW_lat</span></div><div class='xr-var-dims'>(system, time)</div><div class='xr-var-dtype'>float64</div><div class='xr-var-preview xr-preview'>...</div><input id='attrs-9d879e7e-cfa2-4f21-8ae5-4888f3e9dad4' class='xr-var-attrs-in' type='checkbox' ><label for='attrs-9d879e7e-cfa2-4f21-8ae5-4888f3e9dad4' title='Show/Hide attributes'><svg class='icon xr-icon-file-text2'><use xlink:href='#icon-file-text2'></use></svg></label><input id='data-ef21eaad-0c33-4375-a639-4b562d294118' class='xr-var-data-in' type='checkbox'><label for='data-ef21eaad-0c33-4375-a639-4b562d294118' title='Show/Hide data repr'><svg class='icon xr-icon-database'><use xlink:href='#icon-database'></use></svg></label><div class='xr-var-attrs'><dl class='xr-attrs'><dt><span>long_name :</span></dt><dd>Latitude of AEW Tracks</dd><dt><span>units :</span></dt><dd>degrees</dd></dl></div><div class='xr-var-data'><pre>[41616 values with dtype=float64]</pre></div></li><li class='xr-var-item'><div class='xr-var-name'><span>AEW_lon_smooth</span></div><div class='xr-var-dims'>(system, time)</div><div class='xr-var-dtype'>float64</div><div class='xr-var-preview xr-preview'>...</div><input id='attrs-ee5bd5ef-3bfc-433e-b6e2-e4fb64c74798' class='xr-var-attrs-in' type='checkbox' ><label for='attrs-ee5bd5ef-3bfc-433e-b6e2-e4fb64c74798' title='Show/Hide attributes'><svg class='icon xr-icon-file-text2'><use xlink:href='#icon-file-text2'></use></svg></label><input id='data-c7ab3898-c22a-4108-98f1-369efd9cbd2a' class='xr-var-data-in' type='checkbox'><label for='data-c7ab3898-c22a-4108-98f1-369efd9cbd2a' title='Show/Hide data repr'><svg class='icon xr-icon-database'><use xlink:href='#icon-database'></use></svg></label><div class='xr-var-attrs'><dl class='xr-attrs'><dt><span>long_name :</span></dt><dd>Smoothed Longitude of AEW Tracks</dd><dt><span>units :</span></dt><dd>degrees</dd></dl></div><div class='xr-var-data'><pre>[41616 values with dtype=float64]</pre></div></li><li class='xr-var-item'><div class='xr-var-name'><span>AEW_lat_smooth</span></div><div class='xr-var-dims'>(system, time)</div><div class='xr-var-dtype'>float64</div><div class='xr-var-preview xr-preview'>...</div><input id='attrs-6d7ba0db-cf27-4681-92c6-40e28556ffd6' class='xr-var-attrs-in' type='checkbox' ><label for='attrs-6d7ba0db-cf27-4681-92c6-40e28556ffd6' title='Show/Hide attributes'><svg class='icon xr-icon-file-text2'><use xlink:href='#icon-file-text2'></use></svg></label><input id='data-6dff4587-8ec5-40d4-b948-d1939547e042' class='xr-var-data-in' type='checkbox'><label for='data-6dff4587-8ec5-40d4-b948-d1939547e042' title='Show/Hide data repr'><svg class='icon xr-icon-database'><use xlink:href='#icon-database'></use></svg></label><div class='xr-var-attrs'><dl class='xr-attrs'><dt><span>long_name :</span></dt><dd>Smoothed Latitude of AEW Tracks</dd><dt><span>units :</span></dt><dd>degrees</dd></dl></div><div class='xr-var-data'><pre>[41616 values with dtype=float64]</pre></div></li><li class='xr-var-item'><div class='xr-var-name'><span>AEW_strength</span></div><div class='xr-var-dims'>(system, time)</div><div class='xr-var-dtype'>float64</div><div class='xr-var-preview xr-preview'>...</div><input id='attrs-21e4b52a-f743-443e-a2a8-1b300721c5d7' class='xr-var-attrs-in' type='checkbox' ><label for='attrs-21e4b52a-f743-443e-a2a8-1b300721c5d7' title='Show/Hide attributes'><svg class='icon xr-icon-file-text2'><use xlink:href='#icon-file-text2'></use></svg></label><input id='data-fc132d74-fec2-446f-b6b8-382343e6d1fd' class='xr-var-data-in' type='checkbox'><label for='data-fc132d74-fec2-446f-b6b8-382343e6d1fd' title='Show/Hide data repr'><svg class='icon xr-icon-database'><use xlink:href='#icon-database'></use></svg></label><div class='xr-var-attrs'><dl class='xr-attrs'><dt><span>long_name :</span></dt><dd>AEW Strength as measured by 700hPa Curvature Vorticity</dd><dt><span>units :</span></dt><dd>s**-1</dd></dl></div><div class='xr-var-data'><pre>[41616 values with dtype=float64]</pre></div></li><li class='xr-var-item'><div class='xr-var-name'><span>TC_gen_time</span></div><div class='xr-var-dims'>(system)</div><div class='xr-var-dtype'>datetime64[ns]</div><div class='xr-var-preview xr-preview'>...</div><input id='attrs-c640dee5-9c52-4dc5-8c3a-3c1ffd72d439' class='xr-var-attrs-in' type='checkbox' disabled><label for='attrs-c640dee5-9c52-4dc5-8c3a-3c1ffd72d439' title='Show/Hide attributes'><svg class='icon xr-icon-file-text2'><use xlink:href='#icon-file-text2'></use></svg></label><input id='data-ff191818-0d76-4f46-979a-cedcc7494886' class='xr-var-data-in' type='checkbox'><label for='data-ff191818-0d76-4f46-979a-cedcc7494886' title='Show/Hide data repr'><svg class='icon xr-icon-database'><use xlink:href='#icon-database'></use></svg></label><div class='xr-var-attrs'><dl class='xr-attrs'></dl></div><div class='xr-var-data'><pre>[68 values with dtype=datetime64[ns]]</pre></div></li><li class='xr-var-item'><div class='xr-var-name'><span>TC_name</span></div><div class='xr-var-dims'>(system)</div><div class='xr-var-dtype'>&lt;U8</div><div class='xr-var-preview xr-preview'>...</div><input id='attrs-ee686b74-cc15-41e9-8d3e-66532514e9e1' class='xr-var-attrs-in' type='checkbox' disabled><label for='attrs-ee686b74-cc15-41e9-8d3e-66532514e9e1' title='Show/Hide attributes'><svg class='icon xr-icon-file-text2'><use xlink:href='#icon-file-text2'></use></svg></label><input id='data-d9b2716d-6287-464d-9b74-5fa05cd069c7' class='xr-var-data-in' type='checkbox'><label for='data-d9b2716d-6287-464d-9b74-5fa05cd069c7' title='Show/Hide data repr'><svg class='icon xr-icon-database'><use xlink:href='#icon-database'></use></svg></label><div class='xr-var-attrs'><dl class='xr-attrs'></dl></div><div class='xr-var-data'><pre>[68 values with dtype=&lt;U8]</pre></div></li><li class='xr-var-item'><div class='xr-var-name'><span>curv_data_mean</span></div><div class='xr-var-dims'>(time, longitude)</div><div class='xr-var-dtype'>float64</div><div class='xr-var-preview xr-preview'>...</div><input id='attrs-1916e408-bcfe-4d8f-ab57-ac1d693778cb' class='xr-var-attrs-in' type='checkbox' ><label for='attrs-1916e408-bcfe-4d8f-ab57-ac1d693778cb' title='Show/Hide attributes'><svg class='icon xr-icon-file-text2'><use xlink:href='#icon-file-text2'></use></svg></label><input id='data-29a14441-2811-4341-8040-5d253914b1ea' class='xr-var-data-in' type='checkbox'><label for='data-29a14441-2811-4341-8040-5d253914b1ea' title='Show/Hide data repr'><svg class='icon xr-icon-database'><use xlink:href='#icon-database'></use></svg></label><div class='xr-var-attrs'><dl class='xr-attrs'><dt><span>long_name :</span></dt><dd>Averaged Non-Divergent Curvature Vorticity (5-20N)</dd><dt><span>units :</span></dt><dd>s**-1</dd></dl></div><div class='xr-var-data'><pre>[110160 values with dtype=float64]</pre></div></li></ul></div></li><li class='xr-section-item'><input id='section-abbe4292-485b-482f-82cb-8b0cd519b4ef' class='xr-section-summary-in' type='checkbox'  ><label for='section-abbe4292-485b-482f-82cb-8b0cd519b4ef' class='xr-section-summary' >Indexes: <span>(4)</span></label><div class='xr-section-inline-details'></div><div class='xr-section-details'><ul class='xr-var-list'><li class='xr-var-item'><div class='xr-index-name'><div>latitude</div></div><div class='xr-index-preview'>PandasIndex</div><input type='checkbox' disabled/><label></label><input id='index-15255472-d99f-4486-8fa3-786f65c850b9' class='xr-index-data-in' type='checkbox'/><label for='index-15255472-d99f-4486-8fa3-786f65c850b9' title='Show/Hide index repr'><svg class='icon xr-icon-database'><use xlink:href='#icon-database'></use></svg></label><div class='xr-index-data'><pre>PandasIndex(Index([ 60.0,  59.0,  58.0,  57.0,  56.0,  55.0,  54.0,  53.0,  52.0,  51.0,\n",
       "        50.0,  49.0,  48.0,  47.0,  46.0,  45.0,  44.0,  43.0,  42.0,  41.0,\n",
       "        40.0,  39.0,  38.0,  37.0,  36.0,  35.0,  34.0,  33.0,  32.0,  31.0,\n",
       "        30.0,  29.0,  28.0,  27.0,  26.0,  25.0,  24.0,  23.0,  22.0,  21.0,\n",
       "        20.0,  19.0,  18.0,  17.0,  16.0,  15.0,  14.0,  13.0,  12.0,  11.0,\n",
       "        10.0,   9.0,   8.0,   7.0,   6.0,   5.0,   4.0,   3.0,   2.0,   1.0,\n",
       "         0.0,  -1.0,  -2.0,  -3.0,  -4.0,  -5.0,  -6.0,  -7.0,  -8.0,  -9.0,\n",
       "       -10.0, -11.0, -12.0, -13.0, -14.0, -15.0, -16.0, -17.0, -18.0, -19.0],\n",
       "      dtype=&#x27;float64&#x27;, name=&#x27;latitude&#x27;))</pre></div></li><li class='xr-var-item'><div class='xr-index-name'><div>longitude</div></div><div class='xr-index-preview'>PandasIndex</div><input type='checkbox' disabled/><label></label><input id='index-58f8f65f-161f-46ff-b7b5-584afb0d8fef' class='xr-index-data-in' type='checkbox'/><label for='index-58f8f65f-161f-46ff-b7b5-584afb0d8fef' title='Show/Hide index repr'><svg class='icon xr-icon-database'><use xlink:href='#icon-database'></use></svg></label><div class='xr-index-data'><pre>PandasIndex(Index([-120.0, -119.0, -118.0, -117.0, -116.0, -115.0, -114.0, -113.0, -112.0,\n",
       "       -111.0,\n",
       "       ...\n",
       "         50.0,   51.0,   52.0,   53.0,   54.0,   55.0,   56.0,   57.0,   58.0,\n",
       "         59.0],\n",
       "      dtype=&#x27;float64&#x27;, name=&#x27;longitude&#x27;, length=180))</pre></div></li><li class='xr-var-item'><div class='xr-index-name'><div>time</div></div><div class='xr-index-preview'>PandasIndex</div><input type='checkbox' disabled/><label></label><input id='index-f8bd11f7-dd5a-47bd-9a94-10f812421a6a' class='xr-index-data-in' type='checkbox'/><label for='index-f8bd11f7-dd5a-47bd-9a94-10f812421a6a' title='Show/Hide index repr'><svg class='icon xr-icon-database'><use xlink:href='#icon-database'></use></svg></label><div class='xr-index-data'><pre>PandasIndex(DatetimeIndex([&#x27;2012-06-01 00:00:00&#x27;, &#x27;2012-06-01 06:00:00&#x27;,\n",
       "               &#x27;2012-06-01 12:00:00&#x27;, &#x27;2012-06-01 18:00:00&#x27;,\n",
       "               &#x27;2012-06-02 00:00:00&#x27;, &#x27;2012-06-02 06:00:00&#x27;,\n",
       "               &#x27;2012-06-02 12:00:00&#x27;, &#x27;2012-06-02 18:00:00&#x27;,\n",
       "               &#x27;2012-06-03 00:00:00&#x27;, &#x27;2012-06-03 06:00:00&#x27;,\n",
       "               ...\n",
       "               &#x27;2012-10-29 12:00:00&#x27;, &#x27;2012-10-29 18:00:00&#x27;,\n",
       "               &#x27;2012-10-30 00:00:00&#x27;, &#x27;2012-10-30 06:00:00&#x27;,\n",
       "               &#x27;2012-10-30 12:00:00&#x27;, &#x27;2012-10-30 18:00:00&#x27;,\n",
       "               &#x27;2012-10-31 00:00:00&#x27;, &#x27;2012-10-31 06:00:00&#x27;,\n",
       "               &#x27;2012-10-31 12:00:00&#x27;, &#x27;2012-10-31 18:00:00&#x27;],\n",
       "              dtype=&#x27;datetime64[ns]&#x27;, name=&#x27;time&#x27;, length=612, freq=None))</pre></div></li><li class='xr-var-item'><div class='xr-index-name'><div>system</div></div><div class='xr-index-preview'>PandasIndex</div><input type='checkbox' disabled/><label></label><input id='index-cf3c3240-60c7-4f74-b740-17bef738ecd7' class='xr-index-data-in' type='checkbox'/><label for='index-cf3c3240-60c7-4f74-b740-17bef738ecd7' title='Show/Hide index repr'><svg class='icon xr-icon-database'><use xlink:href='#icon-database'></use></svg></label><div class='xr-index-data'><pre>PandasIndex(Index([ 1.0,  2.0,  3.0,  4.0,  5.0,  6.0,  7.0,  8.0,  9.0, 10.0, 11.0, 12.0,\n",
       "       13.0, 14.0, 15.0, 16.0, 17.0, 18.0, 19.0, 20.0, 21.0, 22.0, 23.0, 24.0,\n",
       "       25.0, 26.0, 27.0, 28.0, 29.0, 30.0, 31.0, 32.0, 33.0, 34.0, 35.0, 36.0,\n",
       "       37.0, 38.0, 39.0, 40.0, 41.0, 42.0, 43.0, 44.0, 45.0, 46.0, 47.0, 48.0,\n",
       "       49.0, 50.0, 51.0, 52.0, 53.0, 54.0, 55.0, 56.0, 57.0, 58.0, 59.0, 60.0,\n",
       "       61.0, 62.0, 63.0, 64.0, 65.0, 66.0, 67.0, 68.0],\n",
       "      dtype=&#x27;float64&#x27;, name=&#x27;system&#x27;))</pre></div></li></ul></div></li><li class='xr-section-item'><input id='section-67723319-f511-46b1-92d8-f9cda9714155' class='xr-section-summary-in' type='checkbox' disabled ><label for='section-67723319-f511-46b1-92d8-f9cda9714155' class='xr-section-summary'  title='Expand/collapse section'>Attributes: <span>(0)</span></label><div class='xr-section-inline-details'></div><div class='xr-section-details'><dl class='xr-attrs'></dl></div></li></ul></div></div>"
      ],
      "text/plain": [
       "<xarray.Dataset> Size: 3MB\n",
       "Dimensions:         (latitude: 80, longitude: 180, time: 612, system: 68)\n",
       "Coordinates:\n",
       "  * latitude        (latitude) float64 640B 60.0 59.0 58.0 ... -17.0 -18.0 -19.0\n",
       "  * longitude       (longitude) float64 1kB -120.0 -119.0 -118.0 ... 58.0 59.0\n",
       "  * time            (time) datetime64[ns] 5kB 2012-06-01 ... 2012-10-31T18:00:00\n",
       "  * system          (system) float64 544B 1.0 2.0 3.0 4.0 ... 66.0 67.0 68.0\n",
       "Data variables:\n",
       "    AEW_lon         (system, time) float64 333kB ...\n",
       "    AEW_lat         (system, time) float64 333kB ...\n",
       "    AEW_lon_smooth  (system, time) float64 333kB ...\n",
       "    AEW_lat_smooth  (system, time) float64 333kB ...\n",
       "    AEW_strength    (system, time) float64 333kB ...\n",
       "    TC_gen_time     (system) datetime64[ns] 544B ...\n",
       "    TC_name         (system) <U8 2kB ...\n",
       "    curv_data_mean  (time, longitude) float64 881kB ..."
      ]
     },
     "execution_count": 15,
     "metadata": {},
     "output_type": "execute_result"
    }
   ],
   "source": [
    "fileName = track_data_path +  file_prefix + str(storm_Year) + '.nc'\n",
    "ds = xr.open_dataset(fileName)\n",
    "ds"
   ]
  },
  {
   "cell_type": "code",
   "execution_count": 16,
   "id": "96b93334-096a-4b63-90fa-ec8f9af0f1fc",
   "metadata": {},
   "outputs": [
    {
     "name": "stdout",
     "output_type": "stream",
     "text": [
      "68\n"
     ]
    }
   ],
   "source": [
    "lon = ds.AEW_lon\n",
    "lat = ds.AEW_lat\n",
    "n_waves = lon.shape[0]\n",
    "print(n_waves)"
   ]
  },
  {
   "cell_type": "code",
   "execution_count": 17,
   "id": "d2d1cbd5-5602-4c64-ad98-c54badcc1b8b",
   "metadata": {},
   "outputs": [
    {
     "name": "stdout",
     "output_type": "stream",
     "text": [
      "25 ERNESTO\n"
     ]
    }
   ],
   "source": [
    "idx = np.where(ds.TC_name == storm_Name)[0]\n",
    "\n",
    "if idx.shape == (0,):\n",
    "   print (\"No storm match found\")\n",
    "else:\n",
    "    istorm = idx[0]\n",
    "    print(istorm, storm_Name)"
   ]
  },
  {
   "cell_type": "code",
   "execution_count": 18,
   "id": "c1778aab-3ff9-4671-8a4b-f1ea2f97978e",
   "metadata": {},
   "outputs": [
    {
     "name": "stdout",
     "output_type": "stream",
     "text": [
      "Storm genesis at  50 2012-08-01T12:00:00.000000000\n"
     ]
    }
   ],
   "source": [
    "#locate a specific TC\n",
    "lon_s = ds.AEW_lon_smooth.isel(system=istorm).dropna(dim='time')\n",
    "lat_s =  ds.AEW_lat_smooth.isel(system=istorm).dropna(dim='time')\n",
    "\n",
    "#locate the track index where the wave becomes a TC\n",
    "TC_genesis_time = ds.TC_gen_time.isel(system=istorm)\n",
    "idt = np.where(lat_s.time == TC_genesis_time)[0][0]\n",
    "print(\"Storm genesis at \", idt, TC_genesis_time.values)"
   ]
  },
  {
   "cell_type": "code",
   "execution_count": 19,
   "id": "0ab27e07-b78e-41b7-bbc7-0ac62d307921",
   "metadata": {},
   "outputs": [],
   "source": [
    "# PLOT the track of the wave + TC"
   ]
  },
  {
   "cell_type": "code",
   "execution_count": 20,
   "id": "fca7c610-d13f-4b78-a752-3e46cf61be65",
   "metadata": {},
   "outputs": [
    {
     "data": {
      "image/png": "[encoded data removed]",
      "text/plain": [
       "<Figure size 1000x600 with 1 Axes>"
      ]
     },
     "metadata": {},
     "output_type": "display_data"
    }
   ],
   "source": [
    "fig = plt.figure(figsize=(10, 6))\n",
    "proj = ccrs.PlateCarree()  # cylindrical equidistant\n",
    "\n",
    "ax = fig.add_subplot(1, 1, 1, projection=proj)\n",
    "# Add coastlines and gridlines\n",
    "ax.coastlines()\n",
    "#ax.add_feature(cfeature.BORDERS, linestyle=':')\n",
    "ax.gridlines(draw_labels=True, dms=True, x_inline=False, y_inline=False)\n",
    "\n",
    "# Plot  wave track\n",
    "ax.plot(lon_s, lat_s, marker='none', markersize=2, transform=ccrs.PlateCarree())\n",
    "ax.plot(lon_s[idt:], lat_s[idt:], marker='o', markersize=4, transform=ccrs.PlateCarree())\n",
    "plt.title(storm_Name + \": Wave Track\", fontsize=14)\n",
    "plt.show()"
   ]
  },
  {
   "cell_type": "markdown",
   "id": "6b23d324-1159-4ad0-832b-968ee61c5c81",
   "metadata": {},
   "source": [
    "# download gridsat ir images, a centered box"
   ]
  },
  {
   "cell_type": "code",
   "execution_count": 23,
   "id": "965c0814-ced2-4ef6-af5d-6610d7a71532",
   "metadata": {},
   "outputs": [],
   "source": [
    "#------------------ Center and size (+/- deg) around the central point \n",
    "dlon = 20.\n",
    "dlat = 15.\n",
    "    \n",
    "n6htimes = lon_s.size # 6h is the wave track time step \n",
    "\n",
    "dates=lon_s.time.values\n",
    "date0 = pd.to_datetime(dates[0])"
   ]
  },
  {
   "cell_type": "code",
   "execution_count": 25,
   "id": "2e505278-0ad5-4dc7-beb3-d61a9a17567c",
   "metadata": {},
   "outputs": [
    {
     "name": "stdout",
     "output_type": "stream",
     "text": [
      "2012-07-20 00:00:00 https://www.ncei.noaa.gov/thredds/dodsC/cdr/gridsat/2012/GRIDSAT-B1.2012.07.20.00.v02r01.nc\n",
      "2012-07-20 03:00:00 https://www.ncei.noaa.gov/thredds/dodsC/cdr/gridsat/2012/GRIDSAT-B1.2012.07.20.03.v02r01.nc\n",
      "2012-07-20 06:00:00 https://www.ncei.noaa.gov/thredds/dodsC/cdr/gridsat/2012/GRIDSAT-B1.2012.07.20.06.v02r01.nc\n",
      "2012-07-20 09:00:00 https://www.ncei.noaa.gov/thredds/dodsC/cdr/gridsat/2012/GRIDSAT-B1.2012.07.20.09.v02r01.nc\n",
      "2012-07-20 12:00:00 https://www.ncei.noaa.gov/thredds/dodsC/cdr/gridsat/2012/GRIDSAT-B1.2012.07.20.12.v02r01.nc\n",
      "2012-07-20 15:00:00 https://www.ncei.noaa.gov/thredds/dodsC/cdr/gridsat/2012/GRIDSAT-B1.2012.07.20.15.v02r01.nc\n",
      "2012-07-20 18:00:00 https://www.ncei.noaa.gov/thredds/dodsC/cdr/gridsat/2012/GRIDSAT-B1.2012.07.20.18.v02r01.nc\n",
      "2012-07-20 21:00:00 https://www.ncei.noaa.gov/thredds/dodsC/cdr/gridsat/2012/GRIDSAT-B1.2012.07.20.21.v02r01.nc\n",
      "2012-07-21 00:00:00 https://www.ncei.noaa.gov/thredds/dodsC/cdr/gridsat/2012/GRIDSAT-B1.2012.07.21.00.v02r01.nc\n",
      "2012-07-21 03:00:00 https://www.ncei.noaa.gov/thredds/dodsC/cdr/gridsat/2012/GRIDSAT-B1.2012.07.21.03.v02r01.nc\n",
      "2012-07-21 06:00:00 https://www.ncei.noaa.gov/thredds/dodsC/cdr/gridsat/2012/GRIDSAT-B1.2012.07.21.06.v02r01.nc\n",
      "2012-07-21 09:00:00 https://www.ncei.noaa.gov/thredds/dodsC/cdr/gridsat/2012/GRIDSAT-B1.2012.07.21.09.v02r01.nc\n",
      "2012-07-21 12:00:00 https://www.ncei.noaa.gov/thredds/dodsC/cdr/gridsat/2012/GRIDSAT-B1.2012.07.21.12.v02r01.nc\n",
      "2012-07-21 15:00:00 https://www.ncei.noaa.gov/thredds/dodsC/cdr/gridsat/2012/GRIDSAT-B1.2012.07.21.15.v02r01.nc\n",
      "2012-07-21 18:00:00 https://www.ncei.noaa.gov/thredds/dodsC/cdr/gridsat/2012/GRIDSAT-B1.2012.07.21.18.v02r01.nc\n",
      "2012-07-21 21:00:00 https://www.ncei.noaa.gov/thredds/dodsC/cdr/gridsat/2012/GRIDSAT-B1.2012.07.21.21.v02r01.nc\n",
      "2012-07-22 00:00:00 https://www.ncei.noaa.gov/thredds/dodsC/cdr/gridsat/2012/GRIDSAT-B1.2012.07.22.00.v02r01.nc\n",
      "2012-07-22 03:00:00 https://www.ncei.noaa.gov/thredds/dodsC/cdr/gridsat/2012/GRIDSAT-B1.2012.07.22.03.v02r01.nc\n",
      "2012-07-22 06:00:00 https://www.ncei.noaa.gov/thredds/dodsC/cdr/gridsat/2012/GRIDSAT-B1.2012.07.22.06.v02r01.nc\n",
      "2012-07-22 09:00:00 https://www.ncei.noaa.gov/thredds/dodsC/cdr/gridsat/2012/GRIDSAT-B1.2012.07.22.09.v02r01.nc\n",
      "2012-07-22 12:00:00 https://www.ncei.noaa.gov/thredds/dodsC/cdr/gridsat/2012/GRIDSAT-B1.2012.07.22.12.v02r01.nc\n",
      "2012-07-22 15:00:00 https://www.ncei.noaa.gov/thredds/dodsC/cdr/gridsat/2012/GRIDSAT-B1.2012.07.22.15.v02r01.nc\n",
      "2012-07-22 18:00:00 https://www.ncei.noaa.gov/thredds/dodsC/cdr/gridsat/2012/GRIDSAT-B1.2012.07.22.18.v02r01.nc\n",
      "2012-07-22 21:00:00 https://www.ncei.noaa.gov/thredds/dodsC/cdr/gridsat/2012/GRIDSAT-B1.2012.07.22.21.v02r01.nc\n",
      "2012-07-23 00:00:00 https://www.ncei.noaa.gov/thredds/dodsC/cdr/gridsat/2012/GRIDSAT-B1.2012.07.23.00.v02r01.nc\n",
      "2012-07-23 03:00:00 https://www.ncei.noaa.gov/thredds/dodsC/cdr/gridsat/2012/GRIDSAT-B1.2012.07.23.03.v02r01.nc\n",
      "2012-07-23 06:00:00 https://www.ncei.noaa.gov/thredds/dodsC/cdr/gridsat/2012/GRIDSAT-B1.2012.07.23.06.v02r01.nc\n",
      "2012-07-23 09:00:00 https://www.ncei.noaa.gov/thredds/dodsC/cdr/gridsat/2012/GRIDSAT-B1.2012.07.23.09.v02r01.nc\n",
      "2012-07-23 12:00:00 https://www.ncei.noaa.gov/thredds/dodsC/cdr/gridsat/2012/GRIDSAT-B1.2012.07.23.12.v02r01.nc\n",
      "2012-07-23 15:00:00 https://www.ncei.noaa.gov/thredds/dodsC/cdr/gridsat/2012/GRIDSAT-B1.2012.07.23.15.v02r01.nc\n",
      "2012-07-23 18:00:00 https://www.ncei.noaa.gov/thredds/dodsC/cdr/gridsat/2012/GRIDSAT-B1.2012.07.23.18.v02r01.nc\n",
      "2012-07-23 21:00:00 https://www.ncei.noaa.gov/thredds/dodsC/cdr/gridsat/2012/GRIDSAT-B1.2012.07.23.21.v02r01.nc\n",
      "2012-07-24 00:00:00 https://www.ncei.noaa.gov/thredds/dodsC/cdr/gridsat/2012/GRIDSAT-B1.2012.07.24.00.v02r01.nc\n",
      "2012-07-24 03:00:00 https://www.ncei.noaa.gov/thredds/dodsC/cdr/gridsat/2012/GRIDSAT-B1.2012.07.24.03.v02r01.nc\n",
      "2012-07-24 06:00:00 https://www.ncei.noaa.gov/thredds/dodsC/cdr/gridsat/2012/GRIDSAT-B1.2012.07.24.06.v02r01.nc\n",
      "2012-07-24 09:00:00 https://www.ncei.noaa.gov/thredds/dodsC/cdr/gridsat/2012/GRIDSAT-B1.2012.07.24.09.v02r01.nc\n",
      "2012-07-24 12:00:00 https://www.ncei.noaa.gov/thredds/dodsC/cdr/gridsat/2012/GRIDSAT-B1.2012.07.24.12.v02r01.nc\n",
      "2012-07-24 15:00:00 https://www.ncei.noaa.gov/thredds/dodsC/cdr/gridsat/2012/GRIDSAT-B1.2012.07.24.15.v02r01.nc\n"
     ]
    },
    {
     "name": "stderr",
     "output_type": "stream",
     "text": [
      "Error:curl error: Timeout was reached\n",
      "curl error details: \n",
      "Warning:oc_open: Could not read url\n"
     ]
    },
    {
     "name": "stdout",
     "output_type": "stream",
     "text": [
      "2012-07-24 18:00:00 https://www.ncei.noaa.gov/thredds/dodsC/cdr/gridsat/2012/GRIDSAT-B1.2012.07.24.18.v02r01.nc\n"
     ]
    },
    {
     "name": "stderr",
     "output_type": "stream",
     "text": [
      "Note:Caching=1\n"
     ]
    },
    {
     "name": "stdout",
     "output_type": "stream",
     "text": [
      "2012-07-24 21:00:00 https://www.ncei.noaa.gov/thredds/dodsC/cdr/gridsat/2012/GRIDSAT-B1.2012.07.24.21.v02r01.nc\n"
     ]
    },
    {
     "name": "stderr",
     "output_type": "stream",
     "text": [
      "Note:Caching=1\n"
     ]
    },
    {
     "name": "stdout",
     "output_type": "stream",
     "text": [
      "2012-07-25 00:00:00 https://www.ncei.noaa.gov/thredds/dodsC/cdr/gridsat/2012/GRIDSAT-B1.2012.07.25.00.v02r01.nc\n"
     ]
    },
    {
     "name": "stderr",
     "output_type": "stream",
     "text": [
      "Note:Caching=1\n"
     ]
    },
    {
     "name": "stdout",
     "output_type": "stream",
     "text": [
      "2012-07-25 03:00:00 https://www.ncei.noaa.gov/thredds/dodsC/cdr/gridsat/2012/GRIDSAT-B1.2012.07.25.03.v02r01.nc\n"
     ]
    },
    {
     "name": "stderr",
     "output_type": "stream",
     "text": [
      "Note:Caching=1\n"
     ]
    },
    {
     "name": "stdout",
     "output_type": "stream",
     "text": [
      "2012-07-25 06:00:00 https://www.ncei.noaa.gov/thredds/dodsC/cdr/gridsat/2012/GRIDSAT-B1.2012.07.25.06.v02r01.nc\n"
     ]
    },
    {
     "name": "stderr",
     "output_type": "stream",
     "text": [
      "Note:Caching=1\n"
     ]
    },
    {
     "name": "stdout",
     "output_type": "stream",
     "text": [
      "2012-07-25 09:00:00 https://www.ncei.noaa.gov/thredds/dodsC/cdr/gridsat/2012/GRIDSAT-B1.2012.07.25.09.v02r01.nc\n"
     ]
    },
    {
     "name": "stderr",
     "output_type": "stream",
     "text": [
      "Note:Caching=1\n"
     ]
    },
    {
     "name": "stdout",
     "output_type": "stream",
     "text": [
      "2012-07-25 12:00:00 https://www.ncei.noaa.gov/thredds/dodsC/cdr/gridsat/2012/GRIDSAT-B1.2012.07.25.12.v02r01.nc\n"
     ]
    },
    {
     "name": "stderr",
     "output_type": "stream",
     "text": [
      "Note:Caching=1\n"
     ]
    },
    {
     "name": "stdout",
     "output_type": "stream",
     "text": [
      "2012-07-25 15:00:00 https://www.ncei.noaa.gov/thredds/dodsC/cdr/gridsat/2012/GRIDSAT-B1.2012.07.25.15.v02r01.nc\n"
     ]
    },
    {
     "name": "stderr",
     "output_type": "stream",
     "text": [
      "Note:Caching=1\n"
     ]
    },
    {
     "name": "stdout",
     "output_type": "stream",
     "text": [
      "2012-07-25 18:00:00 https://www.ncei.noaa.gov/thredds/dodsC/cdr/gridsat/2012/GRIDSAT-B1.2012.07.25.18.v02r01.nc\n"
     ]
    },
    {
     "name": "stderr",
     "output_type": "stream",
     "text": [
      "Note:Caching=1\n"
     ]
    },
    {
     "name": "stdout",
     "output_type": "stream",
     "text": [
      "2012-07-25 21:00:00 https://www.ncei.noaa.gov/thredds/dodsC/cdr/gridsat/2012/GRIDSAT-B1.2012.07.25.21.v02r01.nc\n"
     ]
    },
    {
     "name": "stderr",
     "output_type": "stream",
     "text": [
      "Note:Caching=1\n"
     ]
    },
    {
     "name": "stdout",
     "output_type": "stream",
     "text": [
      "2012-07-26 00:00:00 https://www.ncei.noaa.gov/thredds/dodsC/cdr/gridsat/2012/GRIDSAT-B1.2012.07.26.00.v02r01.nc\n"
     ]
    },
    {
     "name": "stderr",
     "output_type": "stream",
     "text": [
      "Note:Caching=1\n"
     ]
    },
    {
     "name": "stdout",
     "output_type": "stream",
     "text": [
      "2012-07-26 03:00:00 https://www.ncei.noaa.gov/thredds/dodsC/cdr/gridsat/2012/GRIDSAT-B1.2012.07.26.03.v02r01.nc\n"
     ]
    },
    {
     "name": "stderr",
     "output_type": "stream",
     "text": [
      "Note:Caching=1\n"
     ]
    },
    {
     "name": "stdout",
     "output_type": "stream",
     "text": [
      "2012-07-26 06:00:00 https://www.ncei.noaa.gov/thredds/dodsC/cdr/gridsat/2012/GRIDSAT-B1.2012.07.26.06.v02r01.nc\n"
     ]
    },
    {
     "name": "stderr",
     "output_type": "stream",
     "text": [
      "Note:Caching=1\n"
     ]
    },
    {
     "name": "stdout",
     "output_type": "stream",
     "text": [
      "2012-07-26 09:00:00 https://www.ncei.noaa.gov/thredds/dodsC/cdr/gridsat/2012/GRIDSAT-B1.2012.07.26.09.v02r01.nc\n"
     ]
    },
    {
     "name": "stderr",
     "output_type": "stream",
     "text": [
      "Note:Caching=1\n"
     ]
    },
    {
     "name": "stdout",
     "output_type": "stream",
     "text": [
      "2012-07-26 12:00:00 https://www.ncei.noaa.gov/thredds/dodsC/cdr/gridsat/2012/GRIDSAT-B1.2012.07.26.12.v02r01.nc\n"
     ]
    },
    {
     "name": "stderr",
     "output_type": "stream",
     "text": [
      "Note:Caching=1\n"
     ]
    },
    {
     "name": "stdout",
     "output_type": "stream",
     "text": [
      "2012-07-26 15:00:00 https://www.ncei.noaa.gov/thredds/dodsC/cdr/gridsat/2012/GRIDSAT-B1.2012.07.26.15.v02r01.nc\n"
     ]
    },
    {
     "name": "stderr",
     "output_type": "stream",
     "text": [
      "Note:Caching=1\n"
     ]
    },
    {
     "name": "stdout",
     "output_type": "stream",
     "text": [
      "2012-07-26 18:00:00 https://www.ncei.noaa.gov/thredds/dodsC/cdr/gridsat/2012/GRIDSAT-B1.2012.07.26.18.v02r01.nc\n"
     ]
    },
    {
     "name": "stderr",
     "output_type": "stream",
     "text": [
      "Note:Caching=1\n"
     ]
    },
    {
     "name": "stdout",
     "output_type": "stream",
     "text": [
      "2012-07-26 21:00:00 https://www.ncei.noaa.gov/thredds/dodsC/cdr/gridsat/2012/GRIDSAT-B1.2012.07.26.21.v02r01.nc\n"
     ]
    },
    {
     "name": "stderr",
     "output_type": "stream",
     "text": [
      "Note:Caching=1\n"
     ]
    },
    {
     "name": "stdout",
     "output_type": "stream",
     "text": [
      "2012-07-27 00:00:00 https://www.ncei.noaa.gov/thredds/dodsC/cdr/gridsat/2012/GRIDSAT-B1.2012.07.27.00.v02r01.nc\n"
     ]
    },
    {
     "name": "stderr",
     "output_type": "stream",
     "text": [
      "Note:Caching=1\n"
     ]
    },
    {
     "name": "stdout",
     "output_type": "stream",
     "text": [
      "2012-07-27 03:00:00 https://www.ncei.noaa.gov/thredds/dodsC/cdr/gridsat/2012/GRIDSAT-B1.2012.07.27.03.v02r01.nc\n"
     ]
    },
    {
     "name": "stderr",
     "output_type": "stream",
     "text": [
      "Note:Caching=1\n"
     ]
    },
    {
     "name": "stdout",
     "output_type": "stream",
     "text": [
      "2012-07-27 06:00:00 https://www.ncei.noaa.gov/thredds/dodsC/cdr/gridsat/2012/GRIDSAT-B1.2012.07.27.06.v02r01.nc\n"
     ]
    },
    {
     "name": "stderr",
     "output_type": "stream",
     "text": [
      "Note:Caching=1\n"
     ]
    },
    {
     "name": "stdout",
     "output_type": "stream",
     "text": [
      "2012-07-27 09:00:00 https://www.ncei.noaa.gov/thredds/dodsC/cdr/gridsat/2012/GRIDSAT-B1.2012.07.27.09.v02r01.nc\n"
     ]
    },
    {
     "name": "stderr",
     "output_type": "stream",
     "text": [
      "Note:Caching=1\n"
     ]
    },
    {
     "name": "stdout",
     "output_type": "stream",
     "text": [
      "2012-07-27 12:00:00 https://www.ncei.noaa.gov/thredds/dodsC/cdr/gridsat/2012/GRIDSAT-B1.2012.07.27.12.v02r01.nc\n"
     ]
    },
    {
     "name": "stderr",
     "output_type": "stream",
     "text": [
      "Note:Caching=1\n"
     ]
    },
    {
     "name": "stdout",
     "output_type": "stream",
     "text": [
      "2012-07-27 15:00:00 https://www.ncei.noaa.gov/thredds/dodsC/cdr/gridsat/2012/GRIDSAT-B1.2012.07.27.15.v02r01.nc\n"
     ]
    },
    {
     "name": "stderr",
     "output_type": "stream",
     "text": [
      "Note:Caching=1\n"
     ]
    },
    {
     "name": "stdout",
     "output_type": "stream",
     "text": [
      "2012-07-27 18:00:00 https://www.ncei.noaa.gov/thredds/dodsC/cdr/gridsat/2012/GRIDSAT-B1.2012.07.27.18.v02r01.nc\n"
     ]
    },
    {
     "name": "stderr",
     "output_type": "stream",
     "text": [
      "Note:Caching=1\n"
     ]
    },
    {
     "name": "stdout",
     "output_type": "stream",
     "text": [
      "2012-07-27 21:00:00 https://www.ncei.noaa.gov/thredds/dodsC/cdr/gridsat/2012/GRIDSAT-B1.2012.07.27.21.v02r01.nc\n"
     ]
    },
    {
     "name": "stderr",
     "output_type": "stream",
     "text": [
      "Note:Caching=1\n"
     ]
    },
    {
     "name": "stdout",
     "output_type": "stream",
     "text": [
      "2012-07-28 00:00:00 https://www.ncei.noaa.gov/thredds/dodsC/cdr/gridsat/2012/GRIDSAT-B1.2012.07.28.00.v02r01.nc\n"
     ]
    },
    {
     "name": "stderr",
     "output_type": "stream",
     "text": [
      "Note:Caching=1\n"
     ]
    },
    {
     "name": "stdout",
     "output_type": "stream",
     "text": [
      "2012-07-28 03:00:00 https://www.ncei.noaa.gov/thredds/dodsC/cdr/gridsat/2012/GRIDSAT-B1.2012.07.28.03.v02r01.nc\n"
     ]
    },
    {
     "name": "stderr",
     "output_type": "stream",
     "text": [
      "Note:Caching=1\n"
     ]
    },
    {
     "name": "stdout",
     "output_type": "stream",
     "text": [
      "2012-07-28 06:00:00 https://www.ncei.noaa.gov/thredds/dodsC/cdr/gridsat/2012/GRIDSAT-B1.2012.07.28.06.v02r01.nc\n"
     ]
    },
    {
     "name": "stderr",
     "output_type": "stream",
     "text": [
      "Note:Caching=1\n"
     ]
    },
    {
     "name": "stdout",
     "output_type": "stream",
     "text": [
      "2012-07-28 09:00:00 https://www.ncei.noaa.gov/thredds/dodsC/cdr/gridsat/2012/GRIDSAT-B1.2012.07.28.09.v02r01.nc\n"
     ]
    },
    {
     "name": "stderr",
     "output_type": "stream",
     "text": [
      "Note:Caching=1\n"
     ]
    },
    {
     "name": "stdout",
     "output_type": "stream",
     "text": [
      "2012-07-28 12:00:00 https://www.ncei.noaa.gov/thredds/dodsC/cdr/gridsat/2012/GRIDSAT-B1.2012.07.28.12.v02r01.nc\n"
     ]
    },
    {
     "name": "stderr",
     "output_type": "stream",
     "text": [
      "Note:Caching=1\n"
     ]
    },
    {
     "name": "stdout",
     "output_type": "stream",
     "text": [
      "2012-07-28 15:00:00 https://www.ncei.noaa.gov/thredds/dodsC/cdr/gridsat/2012/GRIDSAT-B1.2012.07.28.15.v02r01.nc\n"
     ]
    },
    {
     "name": "stderr",
     "output_type": "stream",
     "text": [
      "Note:Caching=1\n"
     ]
    },
    {
     "name": "stdout",
     "output_type": "stream",
     "text": [
      "2012-07-28 18:00:00 https://www.ncei.noaa.gov/thredds/dodsC/cdr/gridsat/2012/GRIDSAT-B1.2012.07.28.18.v02r01.nc\n"
     ]
    },
    {
     "name": "stderr",
     "output_type": "stream",
     "text": [
      "Note:Caching=1\n"
     ]
    },
    {
     "name": "stdout",
     "output_type": "stream",
     "text": [
      "2012-07-28 21:00:00 https://www.ncei.noaa.gov/thredds/dodsC/cdr/gridsat/2012/GRIDSAT-B1.2012.07.28.21.v02r01.nc\n"
     ]
    },
    {
     "name": "stderr",
     "output_type": "stream",
     "text": [
      "Note:Caching=1\n"
     ]
    },
    {
     "name": "stdout",
     "output_type": "stream",
     "text": [
      "2012-07-29 00:00:00 https://www.ncei.noaa.gov/thredds/dodsC/cdr/gridsat/2012/GRIDSAT-B1.2012.07.29.00.v02r01.nc\n"
     ]
    },
    {
     "name": "stderr",
     "output_type": "stream",
     "text": [
      "Note:Caching=1\n"
     ]
    },
    {
     "name": "stdout",
     "output_type": "stream",
     "text": [
      "2012-07-29 03:00:00 https://www.ncei.noaa.gov/thredds/dodsC/cdr/gridsat/2012/GRIDSAT-B1.2012.07.29.03.v02r01.nc\n"
     ]
    },
    {
     "name": "stderr",
     "output_type": "stream",
     "text": [
      "Note:Caching=1\n"
     ]
    },
    {
     "name": "stdout",
     "output_type": "stream",
     "text": [
      "2012-07-29 06:00:00 https://www.ncei.noaa.gov/thredds/dodsC/cdr/gridsat/2012/GRIDSAT-B1.2012.07.29.06.v02r01.nc\n"
     ]
    },
    {
     "name": "stderr",
     "output_type": "stream",
     "text": [
      "Note:Caching=1\n"
     ]
    },
    {
     "name": "stdout",
     "output_type": "stream",
     "text": [
      "2012-07-29 09:00:00 https://www.ncei.noaa.gov/thredds/dodsC/cdr/gridsat/2012/GRIDSAT-B1.2012.07.29.09.v02r01.nc\n"
     ]
    },
    {
     "name": "stderr",
     "output_type": "stream",
     "text": [
      "Note:Caching=1\n"
     ]
    },
    {
     "name": "stdout",
     "output_type": "stream",
     "text": [
      "2012-07-29 12:00:00 https://www.ncei.noaa.gov/thredds/dodsC/cdr/gridsat/2012/GRIDSAT-B1.2012.07.29.12.v02r01.nc\n"
     ]
    },
    {
     "name": "stderr",
     "output_type": "stream",
     "text": [
      "Note:Caching=1\n"
     ]
    },
    {
     "name": "stdout",
     "output_type": "stream",
     "text": [
      "2012-07-29 15:00:00 https://www.ncei.noaa.gov/thredds/dodsC/cdr/gridsat/2012/GRIDSAT-B1.2012.07.29.15.v02r01.nc\n"
     ]
    },
    {
     "name": "stderr",
     "output_type": "stream",
     "text": [
      "Note:Caching=1\n"
     ]
    },
    {
     "name": "stdout",
     "output_type": "stream",
     "text": [
      "2012-07-29 18:00:00 https://www.ncei.noaa.gov/thredds/dodsC/cdr/gridsat/2012/GRIDSAT-B1.2012.07.29.18.v02r01.nc\n"
     ]
    },
    {
     "name": "stderr",
     "output_type": "stream",
     "text": [
      "Note:Caching=1\n"
     ]
    },
    {
     "name": "stdout",
     "output_type": "stream",
     "text": [
      "2012-07-29 21:00:00 https://www.ncei.noaa.gov/thredds/dodsC/cdr/gridsat/2012/GRIDSAT-B1.2012.07.29.21.v02r01.nc\n"
     ]
    },
    {
     "name": "stderr",
     "output_type": "stream",
     "text": [
      "Note:Caching=1\n"
     ]
    },
    {
     "name": "stdout",
     "output_type": "stream",
     "text": [
      "2012-07-30 00:00:00 https://www.ncei.noaa.gov/thredds/dodsC/cdr/gridsat/2012/GRIDSAT-B1.2012.07.30.00.v02r01.nc\n"
     ]
    },
    {
     "name": "stderr",
     "output_type": "stream",
     "text": [
      "Note:Caching=1\n"
     ]
    },
    {
     "name": "stdout",
     "output_type": "stream",
     "text": [
      "2012-07-30 03:00:00 https://www.ncei.noaa.gov/thredds/dodsC/cdr/gridsat/2012/GRIDSAT-B1.2012.07.30.03.v02r01.nc\n"
     ]
    },
    {
     "name": "stderr",
     "output_type": "stream",
     "text": [
      "Note:Caching=1\n"
     ]
    },
    {
     "name": "stdout",
     "output_type": "stream",
     "text": [
      "2012-07-30 06:00:00 https://www.ncei.noaa.gov/thredds/dodsC/cdr/gridsat/2012/GRIDSAT-B1.2012.07.30.06.v02r01.nc\n"
     ]
    },
    {
     "name": "stderr",
     "output_type": "stream",
     "text": [
      "Note:Caching=1\n"
     ]
    },
    {
     "name": "stdout",
     "output_type": "stream",
     "text": [
      "2012-07-30 09:00:00 https://www.ncei.noaa.gov/thredds/dodsC/cdr/gridsat/2012/GRIDSAT-B1.2012.07.30.09.v02r01.nc\n"
     ]
    },
    {
     "name": "stderr",
     "output_type": "stream",
     "text": [
      "Note:Caching=1\n"
     ]
    },
    {
     "name": "stdout",
     "output_type": "stream",
     "text": [
      "2012-07-30 12:00:00 https://www.ncei.noaa.gov/thredds/dodsC/cdr/gridsat/2012/GRIDSAT-B1.2012.07.30.12.v02r01.nc\n"
     ]
    },
    {
     "name": "stderr",
     "output_type": "stream",
     "text": [
      "Note:Caching=1\n"
     ]
    },
    {
     "name": "stdout",
     "output_type": "stream",
     "text": [
      "2012-07-30 15:00:00 https://www.ncei.noaa.gov/thredds/dodsC/cdr/gridsat/2012/GRIDSAT-B1.2012.07.30.15.v02r01.nc\n"
     ]
    },
    {
     "name": "stderr",
     "output_type": "stream",
     "text": [
      "Note:Caching=1\n"
     ]
    },
    {
     "name": "stdout",
     "output_type": "stream",
     "text": [
      "2012-07-30 18:00:00 https://www.ncei.noaa.gov/thredds/dodsC/cdr/gridsat/2012/GRIDSAT-B1.2012.07.30.18.v02r01.nc\n"
     ]
    },
    {
     "name": "stderr",
     "output_type": "stream",
     "text": [
      "Note:Caching=1\n"
     ]
    },
    {
     "name": "stdout",
     "output_type": "stream",
     "text": [
      "2012-07-30 21:00:00 https://www.ncei.noaa.gov/thredds/dodsC/cdr/gridsat/2012/GRIDSAT-B1.2012.07.30.21.v02r01.nc\n"
     ]
    },
    {
     "name": "stderr",
     "output_type": "stream",
     "text": [
      "Note:Caching=1\n"
     ]
    },
    {
     "name": "stdout",
     "output_type": "stream",
     "text": [
      "2012-07-31 00:00:00 https://www.ncei.noaa.gov/thredds/dodsC/cdr/gridsat/2012/GRIDSAT-B1.2012.07.31.00.v02r01.nc\n"
     ]
    },
    {
     "name": "stderr",
     "output_type": "stream",
     "text": [
      "Note:Caching=1\n"
     ]
    },
    {
     "name": "stdout",
     "output_type": "stream",
     "text": [
      "2012-07-31 03:00:00 https://www.ncei.noaa.gov/thredds/dodsC/cdr/gridsat/2012/GRIDSAT-B1.2012.07.31.03.v02r01.nc\n"
     ]
    },
    {
     "name": "stderr",
     "output_type": "stream",
     "text": [
      "Note:Caching=1\n"
     ]
    },
    {
     "name": "stdout",
     "output_type": "stream",
     "text": [
      "2012-07-31 06:00:00 https://www.ncei.noaa.gov/thredds/dodsC/cdr/gridsat/2012/GRIDSAT-B1.2012.07.31.06.v02r01.nc\n"
     ]
    },
    {
     "name": "stderr",
     "output_type": "stream",
     "text": [
      "Note:Caching=1\n"
     ]
    },
    {
     "name": "stdout",
     "output_type": "stream",
     "text": [
      "2012-07-31 09:00:00 https://www.ncei.noaa.gov/thredds/dodsC/cdr/gridsat/2012/GRIDSAT-B1.2012.07.31.09.v02r01.nc\n"
     ]
    },
    {
     "name": "stderr",
     "output_type": "stream",
     "text": [
      "Note:Caching=1\n"
     ]
    },
    {
     "name": "stdout",
     "output_type": "stream",
     "text": [
      "2012-07-31 12:00:00 https://www.ncei.noaa.gov/thredds/dodsC/cdr/gridsat/2012/GRIDSAT-B1.2012.07.31.12.v02r01.nc\n"
     ]
    },
    {
     "name": "stderr",
     "output_type": "stream",
     "text": [
      "Note:Caching=1\n"
     ]
    },
    {
     "name": "stdout",
     "output_type": "stream",
     "text": [
      "2012-07-31 15:00:00 https://www.ncei.noaa.gov/thredds/dodsC/cdr/gridsat/2012/GRIDSAT-B1.2012.07.31.15.v02r01.nc\n"
     ]
    },
    {
     "name": "stderr",
     "output_type": "stream",
     "text": [
      "Note:Caching=1\n"
     ]
    },
    {
     "name": "stdout",
     "output_type": "stream",
     "text": [
      "2012-07-31 18:00:00 https://www.ncei.noaa.gov/thredds/dodsC/cdr/gridsat/2012/GRIDSAT-B1.2012.07.31.18.v02r01.nc\n"
     ]
    },
    {
     "name": "stderr",
     "output_type": "stream",
     "text": [
      "Note:Caching=1\n"
     ]
    },
    {
     "name": "stdout",
     "output_type": "stream",
     "text": [
      "2012-07-31 21:00:00 https://www.ncei.noaa.gov/thredds/dodsC/cdr/gridsat/2012/GRIDSAT-B1.2012.07.31.21.v02r01.nc\n"
     ]
    },
    {
     "name": "stderr",
     "output_type": "stream",
     "text": [
      "Note:Caching=1\n"
     ]
    },
    {
     "name": "stdout",
     "output_type": "stream",
     "text": [
      "2012-08-01 00:00:00 https://www.ncei.noaa.gov/thredds/dodsC/cdr/gridsat/2012/GRIDSAT-B1.2012.08.01.00.v02r01.nc\n"
     ]
    },
    {
     "name": "stderr",
     "output_type": "stream",
     "text": [
      "Note:Caching=1\n"
     ]
    },
    {
     "name": "stdout",
     "output_type": "stream",
     "text": [
      "2012-08-01 03:00:00 https://www.ncei.noaa.gov/thredds/dodsC/cdr/gridsat/2012/GRIDSAT-B1.2012.08.01.03.v02r01.nc\n"
     ]
    },
    {
     "name": "stderr",
     "output_type": "stream",
     "text": [
      "Note:Caching=1\n"
     ]
    },
    {
     "name": "stdout",
     "output_type": "stream",
     "text": [
      "2012-08-01 06:00:00 https://www.ncei.noaa.gov/thredds/dodsC/cdr/gridsat/2012/GRIDSAT-B1.2012.08.01.06.v02r01.nc\n"
     ]
    },
    {
     "name": "stderr",
     "output_type": "stream",
     "text": [
      "Note:Caching=1\n"
     ]
    },
    {
     "name": "stdout",
     "output_type": "stream",
     "text": [
      "2012-08-01 09:00:00 https://www.ncei.noaa.gov/thredds/dodsC/cdr/gridsat/2012/GRIDSAT-B1.2012.08.01.09.v02r01.nc\n"
     ]
    },
    {
     "name": "stderr",
     "output_type": "stream",
     "text": [
      "Note:Caching=1\n"
     ]
    },
    {
     "name": "stdout",
     "output_type": "stream",
     "text": [
      "2012-08-01 12:00:00 https://www.ncei.noaa.gov/thredds/dodsC/cdr/gridsat/2012/GRIDSAT-B1.2012.08.01.12.v02r01.nc\n"
     ]
    },
    {
     "name": "stderr",
     "output_type": "stream",
     "text": [
      "Note:Caching=1\n"
     ]
    },
    {
     "name": "stdout",
     "output_type": "stream",
     "text": [
      "2012-08-01 15:00:00 https://www.ncei.noaa.gov/thredds/dodsC/cdr/gridsat/2012/GRIDSAT-B1.2012.08.01.15.v02r01.nc\n"
     ]
    },
    {
     "name": "stderr",
     "output_type": "stream",
     "text": [
      "Note:Caching=1\n"
     ]
    },
    {
     "name": "stdout",
     "output_type": "stream",
     "text": [
      "2012-08-01 18:00:00 https://www.ncei.noaa.gov/thredds/dodsC/cdr/gridsat/2012/GRIDSAT-B1.2012.08.01.18.v02r01.nc\n"
     ]
    },
    {
     "name": "stderr",
     "output_type": "stream",
     "text": [
      "Note:Caching=1\n"
     ]
    },
    {
     "name": "stdout",
     "output_type": "stream",
     "text": [
      "2012-08-01 21:00:00 https://www.ncei.noaa.gov/thredds/dodsC/cdr/gridsat/2012/GRIDSAT-B1.2012.08.01.21.v02r01.nc\n"
     ]
    },
    {
     "name": "stderr",
     "output_type": "stream",
     "text": [
      "Note:Caching=1\n"
     ]
    },
    {
     "name": "stdout",
     "output_type": "stream",
     "text": [
      "2012-08-02 00:00:00 https://www.ncei.noaa.gov/thredds/dodsC/cdr/gridsat/2012/GRIDSAT-B1.2012.08.02.00.v02r01.nc\n"
     ]
    },
    {
     "name": "stderr",
     "output_type": "stream",
     "text": [
      "Note:Caching=1\n"
     ]
    },
    {
     "name": "stdout",
     "output_type": "stream",
     "text": [
      "2012-08-02 03:00:00 https://www.ncei.noaa.gov/thredds/dodsC/cdr/gridsat/2012/GRIDSAT-B1.2012.08.02.03.v02r01.nc\n"
     ]
    },
    {
     "name": "stderr",
     "output_type": "stream",
     "text": [
      "Note:Caching=1\n"
     ]
    },
    {
     "name": "stdout",
     "output_type": "stream",
     "text": [
      "2012-08-02 06:00:00 https://www.ncei.noaa.gov/thredds/dodsC/cdr/gridsat/2012/GRIDSAT-B1.2012.08.02.06.v02r01.nc\n"
     ]
    },
    {
     "name": "stderr",
     "output_type": "stream",
     "text": [
      "Note:Caching=1\n"
     ]
    },
    {
     "name": "stdout",
     "output_type": "stream",
     "text": [
      "2012-08-02 09:00:00 https://www.ncei.noaa.gov/thredds/dodsC/cdr/gridsat/2012/GRIDSAT-B1.2012.08.02.09.v02r01.nc\n"
     ]
    },
    {
     "name": "stderr",
     "output_type": "stream",
     "text": [
      "Note:Caching=1\n"
     ]
    },
    {
     "name": "stdout",
     "output_type": "stream",
     "text": [
      "2012-08-02 12:00:00 https://www.ncei.noaa.gov/thredds/dodsC/cdr/gridsat/2012/GRIDSAT-B1.2012.08.02.12.v02r01.nc\n"
     ]
    },
    {
     "name": "stderr",
     "output_type": "stream",
     "text": [
      "Note:Caching=1\n"
     ]
    },
    {
     "name": "stdout",
     "output_type": "stream",
     "text": [
      "2012-08-02 15:00:00 https://www.ncei.noaa.gov/thredds/dodsC/cdr/gridsat/2012/GRIDSAT-B1.2012.08.02.15.v02r01.nc\n"
     ]
    },
    {
     "name": "stderr",
     "output_type": "stream",
     "text": [
      "Note:Caching=1\n"
     ]
    },
    {
     "name": "stdout",
     "output_type": "stream",
     "text": [
      "2012-08-02 18:00:00 https://www.ncei.noaa.gov/thredds/dodsC/cdr/gridsat/2012/GRIDSAT-B1.2012.08.02.18.v02r01.nc\n"
     ]
    },
    {
     "name": "stderr",
     "output_type": "stream",
     "text": [
      "Note:Caching=1\n"
     ]
    },
    {
     "name": "stdout",
     "output_type": "stream",
     "text": [
      "2012-08-02 21:00:00 https://www.ncei.noaa.gov/thredds/dodsC/cdr/gridsat/2012/GRIDSAT-B1.2012.08.02.21.v02r01.nc\n"
     ]
    },
    {
     "name": "stderr",
     "output_type": "stream",
     "text": [
      "Note:Caching=1\n"
     ]
    },
    {
     "name": "stdout",
     "output_type": "stream",
     "text": [
      "2012-08-03 00:00:00 https://www.ncei.noaa.gov/thredds/dodsC/cdr/gridsat/2012/GRIDSAT-B1.2012.08.03.00.v02r01.nc\n"
     ]
    },
    {
     "name": "stderr",
     "output_type": "stream",
     "text": [
      "Note:Caching=1\n"
     ]
    },
    {
     "name": "stdout",
     "output_type": "stream",
     "text": [
      "2012-08-03 03:00:00 https://www.ncei.noaa.gov/thredds/dodsC/cdr/gridsat/2012/GRIDSAT-B1.2012.08.03.03.v02r01.nc\n"
     ]
    },
    {
     "name": "stderr",
     "output_type": "stream",
     "text": [
      "Note:Caching=1\n"
     ]
    },
    {
     "name": "stdout",
     "output_type": "stream",
     "text": [
      "2012-08-03 06:00:00 https://www.ncei.noaa.gov/thredds/dodsC/cdr/gridsat/2012/GRIDSAT-B1.2012.08.03.06.v02r01.nc\n"
     ]
    },
    {
     "name": "stderr",
     "output_type": "stream",
     "text": [
      "Note:Caching=1\n"
     ]
    },
    {
     "name": "stdout",
     "output_type": "stream",
     "text": [
      "2012-08-03 09:00:00 https://www.ncei.noaa.gov/thredds/dodsC/cdr/gridsat/2012/GRIDSAT-B1.2012.08.03.09.v02r01.nc\n"
     ]
    },
    {
     "name": "stderr",
     "output_type": "stream",
     "text": [
      "Note:Caching=1\n"
     ]
    },
    {
     "name": "stdout",
     "output_type": "stream",
     "text": [
      "2012-08-03 12:00:00 https://www.ncei.noaa.gov/thredds/dodsC/cdr/gridsat/2012/GRIDSAT-B1.2012.08.03.12.v02r01.nc\n"
     ]
    },
    {
     "name": "stderr",
     "output_type": "stream",
     "text": [
      "Note:Caching=1\n"
     ]
    },
    {
     "name": "stdout",
     "output_type": "stream",
     "text": [
      "2012-08-03 15:00:00 https://www.ncei.noaa.gov/thredds/dodsC/cdr/gridsat/2012/GRIDSAT-B1.2012.08.03.15.v02r01.nc\n"
     ]
    },
    {
     "name": "stderr",
     "output_type": "stream",
     "text": [
      "Note:Caching=1\n"
     ]
    },
    {
     "name": "stdout",
     "output_type": "stream",
     "text": [
      "2012-08-03 18:00:00 https://www.ncei.noaa.gov/thredds/dodsC/cdr/gridsat/2012/GRIDSAT-B1.2012.08.03.18.v02r01.nc\n"
     ]
    },
    {
     "name": "stderr",
     "output_type": "stream",
     "text": [
      "Note:Caching=1\n"
     ]
    },
    {
     "name": "stdout",
     "output_type": "stream",
     "text": [
      "2012-08-03 21:00:00 https://www.ncei.noaa.gov/thredds/dodsC/cdr/gridsat/2012/GRIDSAT-B1.2012.08.03.21.v02r01.nc\n"
     ]
    },
    {
     "name": "stderr",
     "output_type": "stream",
     "text": [
      "Note:Caching=1\n"
     ]
    },
    {
     "name": "stdout",
     "output_type": "stream",
     "text": [
      "2012-08-04 00:00:00 https://www.ncei.noaa.gov/thredds/dodsC/cdr/gridsat/2012/GRIDSAT-B1.2012.08.04.00.v02r01.nc\n"
     ]
    },
    {
     "name": "stderr",
     "output_type": "stream",
     "text": [
      "Note:Caching=1\n"
     ]
    },
    {
     "name": "stdout",
     "output_type": "stream",
     "text": [
      "2012-08-04 03:00:00 https://www.ncei.noaa.gov/thredds/dodsC/cdr/gridsat/2012/GRIDSAT-B1.2012.08.04.03.v02r01.nc\n"
     ]
    },
    {
     "name": "stderr",
     "output_type": "stream",
     "text": [
      "Note:Caching=1\n"
     ]
    },
    {
     "name": "stdout",
     "output_type": "stream",
     "text": [
      "2012-08-04 06:00:00 https://www.ncei.noaa.gov/thredds/dodsC/cdr/gridsat/2012/GRIDSAT-B1.2012.08.04.06.v02r01.nc\n"
     ]
    },
    {
     "name": "stderr",
     "output_type": "stream",
     "text": [
      "Note:Caching=1\n"
     ]
    },
    {
     "name": "stdout",
     "output_type": "stream",
     "text": [
      "2012-08-04 09:00:00 https://www.ncei.noaa.gov/thredds/dodsC/cdr/gridsat/2012/GRIDSAT-B1.2012.08.04.09.v02r01.nc\n"
     ]
    },
    {
     "name": "stderr",
     "output_type": "stream",
     "text": [
      "Note:Caching=1\n"
     ]
    },
    {
     "name": "stdout",
     "output_type": "stream",
     "text": [
      "2012-08-04 12:00:00 https://www.ncei.noaa.gov/thredds/dodsC/cdr/gridsat/2012/GRIDSAT-B1.2012.08.04.12.v02r01.nc\n"
     ]
    },
    {
     "name": "stderr",
     "output_type": "stream",
     "text": [
      "Note:Caching=1\n"
     ]
    },
    {
     "name": "stdout",
     "output_type": "stream",
     "text": [
      "2012-08-04 15:00:00 https://www.ncei.noaa.gov/thredds/dodsC/cdr/gridsat/2012/GRIDSAT-B1.2012.08.04.15.v02r01.nc\n"
     ]
    },
    {
     "name": "stderr",
     "output_type": "stream",
     "text": [
      "Note:Caching=1\n"
     ]
    },
    {
     "name": "stdout",
     "output_type": "stream",
     "text": [
      "2012-08-04 18:00:00 https://www.ncei.noaa.gov/thredds/dodsC/cdr/gridsat/2012/GRIDSAT-B1.2012.08.04.18.v02r01.nc\n"
     ]
    },
    {
     "name": "stderr",
     "output_type": "stream",
     "text": [
      "Note:Caching=1\n"
     ]
    },
    {
     "name": "stdout",
     "output_type": "stream",
     "text": [
      "2012-08-04 21:00:00 https://www.ncei.noaa.gov/thredds/dodsC/cdr/gridsat/2012/GRIDSAT-B1.2012.08.04.21.v02r01.nc\n"
     ]
    },
    {
     "name": "stderr",
     "output_type": "stream",
     "text": [
      "Note:Caching=1\n"
     ]
    },
    {
     "name": "stdout",
     "output_type": "stream",
     "text": [
      "2012-08-05 00:00:00 https://www.ncei.noaa.gov/thredds/dodsC/cdr/gridsat/2012/GRIDSAT-B1.2012.08.05.00.v02r01.nc\n"
     ]
    },
    {
     "name": "stderr",
     "output_type": "stream",
     "text": [
      "Note:Caching=1\n"
     ]
    },
    {
     "name": "stdout",
     "output_type": "stream",
     "text": [
      "2012-08-05 03:00:00 https://www.ncei.noaa.gov/thredds/dodsC/cdr/gridsat/2012/GRIDSAT-B1.2012.08.05.03.v02r01.nc\n"
     ]
    },
    {
     "name": "stderr",
     "output_type": "stream",
     "text": [
      "Note:Caching=1\n"
     ]
    },
    {
     "name": "stdout",
     "output_type": "stream",
     "text": [
      "2012-08-05 06:00:00 https://www.ncei.noaa.gov/thredds/dodsC/cdr/gridsat/2012/GRIDSAT-B1.2012.08.05.06.v02r01.nc\n"
     ]
    },
    {
     "name": "stderr",
     "output_type": "stream",
     "text": [
      "Note:Caching=1\n"
     ]
    },
    {
     "name": "stdout",
     "output_type": "stream",
     "text": [
      "2012-08-05 09:00:00 https://www.ncei.noaa.gov/thredds/dodsC/cdr/gridsat/2012/GRIDSAT-B1.2012.08.05.09.v02r01.nc\n"
     ]
    },
    {
     "name": "stderr",
     "output_type": "stream",
     "text": [
      "Note:Caching=1\n"
     ]
    },
    {
     "name": "stdout",
     "output_type": "stream",
     "text": [
      "2012-08-05 12:00:00 https://www.ncei.noaa.gov/thredds/dodsC/cdr/gridsat/2012/GRIDSAT-B1.2012.08.05.12.v02r01.nc\n"
     ]
    },
    {
     "name": "stderr",
     "output_type": "stream",
     "text": [
      "Note:Caching=1\n"
     ]
    },
    {
     "name": "stdout",
     "output_type": "stream",
     "text": [
      "2012-08-05 15:00:00 https://www.ncei.noaa.gov/thredds/dodsC/cdr/gridsat/2012/GRIDSAT-B1.2012.08.05.15.v02r01.nc\n"
     ]
    },
    {
     "name": "stderr",
     "output_type": "stream",
     "text": [
      "Note:Caching=1\n"
     ]
    },
    {
     "name": "stdout",
     "output_type": "stream",
     "text": [
      "2012-08-05 18:00:00 https://www.ncei.noaa.gov/thredds/dodsC/cdr/gridsat/2012/GRIDSAT-B1.2012.08.05.18.v02r01.nc\n"
     ]
    },
    {
     "name": "stderr",
     "output_type": "stream",
     "text": [
      "Note:Caching=1\n"
     ]
    },
    {
     "name": "stdout",
     "output_type": "stream",
     "text": [
      "2012-08-05 21:00:00 https://www.ncei.noaa.gov/thredds/dodsC/cdr/gridsat/2012/GRIDSAT-B1.2012.08.05.21.v02r01.nc\n"
     ]
    },
    {
     "name": "stderr",
     "output_type": "stream",
     "text": [
      "Note:Caching=1\n"
     ]
    },
    {
     "name": "stdout",
     "output_type": "stream",
     "text": [
      "2012-08-06 00:00:00 https://www.ncei.noaa.gov/thredds/dodsC/cdr/gridsat/2012/GRIDSAT-B1.2012.08.06.00.v02r01.nc\n"
     ]
    },
    {
     "name": "stderr",
     "output_type": "stream",
     "text": [
      "Note:Caching=1\n"
     ]
    },
    {
     "name": "stdout",
     "output_type": "stream",
     "text": [
      "2012-08-06 03:00:00 https://www.ncei.noaa.gov/thredds/dodsC/cdr/gridsat/2012/GRIDSAT-B1.2012.08.06.03.v02r01.nc\n"
     ]
    },
    {
     "name": "stderr",
     "output_type": "stream",
     "text": [
      "Note:Caching=1\n"
     ]
    },
    {
     "name": "stdout",
     "output_type": "stream",
     "text": [
      "2012-08-06 06:00:00 https://www.ncei.noaa.gov/thredds/dodsC/cdr/gridsat/2012/GRIDSAT-B1.2012.08.06.06.v02r01.nc\n"
     ]
    },
    {
     "name": "stderr",
     "output_type": "stream",
     "text": [
      "Note:Caching=1\n"
     ]
    },
    {
     "name": "stdout",
     "output_type": "stream",
     "text": [
      "2012-08-06 09:00:00 https://www.ncei.noaa.gov/thredds/dodsC/cdr/gridsat/2012/GRIDSAT-B1.2012.08.06.09.v02r01.nc\n"
     ]
    },
    {
     "name": "stderr",
     "output_type": "stream",
     "text": [
      "Note:Caching=1\n"
     ]
    },
    {
     "name": "stdout",
     "output_type": "stream",
     "text": [
      "2012-08-06 12:00:00 https://www.ncei.noaa.gov/thredds/dodsC/cdr/gridsat/2012/GRIDSAT-B1.2012.08.06.12.v02r01.nc\n"
     ]
    },
    {
     "name": "stderr",
     "output_type": "stream",
     "text": [
      "Note:Caching=1\n"
     ]
    },
    {
     "name": "stdout",
     "output_type": "stream",
     "text": [
      "2012-08-06 15:00:00 https://www.ncei.noaa.gov/thredds/dodsC/cdr/gridsat/2012/GRIDSAT-B1.2012.08.06.15.v02r01.nc\n"
     ]
    },
    {
     "name": "stderr",
     "output_type": "stream",
     "text": [
      "Note:Caching=1\n"
     ]
    },
    {
     "name": "stdout",
     "output_type": "stream",
     "text": [
      "2012-08-06 18:00:00 https://www.ncei.noaa.gov/thredds/dodsC/cdr/gridsat/2012/GRIDSAT-B1.2012.08.06.18.v02r01.nc\n"
     ]
    },
    {
     "name": "stderr",
     "output_type": "stream",
     "text": [
      "Note:Caching=1\n"
     ]
    },
    {
     "name": "stdout",
     "output_type": "stream",
     "text": [
      "2012-08-06 21:00:00 https://www.ncei.noaa.gov/thredds/dodsC/cdr/gridsat/2012/GRIDSAT-B1.2012.08.06.21.v02r01.nc\n"
     ]
    },
    {
     "name": "stderr",
     "output_type": "stream",
     "text": [
      "Note:Caching=1\n"
     ]
    },
    {
     "name": "stdout",
     "output_type": "stream",
     "text": [
      "2012-08-07 00:00:00 https://www.ncei.noaa.gov/thredds/dodsC/cdr/gridsat/2012/GRIDSAT-B1.2012.08.07.00.v02r01.nc\n"
     ]
    },
    {
     "name": "stderr",
     "output_type": "stream",
     "text": [
      "Note:Caching=1\n"
     ]
    },
    {
     "name": "stdout",
     "output_type": "stream",
     "text": [
      "2012-08-07 03:00:00 https://www.ncei.noaa.gov/thredds/dodsC/cdr/gridsat/2012/GRIDSAT-B1.2012.08.07.03.v02r01.nc\n"
     ]
    },
    {
     "name": "stderr",
     "output_type": "stream",
     "text": [
      "Note:Caching=1\n"
     ]
    },
    {
     "name": "stdout",
     "output_type": "stream",
     "text": [
      "2012-08-07 06:00:00 https://www.ncei.noaa.gov/thredds/dodsC/cdr/gridsat/2012/GRIDSAT-B1.2012.08.07.06.v02r01.nc\n"
     ]
    },
    {
     "name": "stderr",
     "output_type": "stream",
     "text": [
      "Note:Caching=1\n"
     ]
    },
    {
     "name": "stdout",
     "output_type": "stream",
     "text": [
      "2012-08-07 09:00:00 https://www.ncei.noaa.gov/thredds/dodsC/cdr/gridsat/2012/GRIDSAT-B1.2012.08.07.09.v02r01.nc\n"
     ]
    },
    {
     "name": "stderr",
     "output_type": "stream",
     "text": [
      "Note:Caching=1\n"
     ]
    },
    {
     "name": "stdout",
     "output_type": "stream",
     "text": [
      "2012-08-07 12:00:00 https://www.ncei.noaa.gov/thredds/dodsC/cdr/gridsat/2012/GRIDSAT-B1.2012.08.07.12.v02r01.nc\n"
     ]
    },
    {
     "name": "stderr",
     "output_type": "stream",
     "text": [
      "Note:Caching=1\n"
     ]
    },
    {
     "name": "stdout",
     "output_type": "stream",
     "text": [
      "2012-08-07 15:00:00 https://www.ncei.noaa.gov/thredds/dodsC/cdr/gridsat/2012/GRIDSAT-B1.2012.08.07.15.v02r01.nc\n"
     ]
    },
    {
     "name": "stderr",
     "output_type": "stream",
     "text": [
      "Note:Caching=1\n"
     ]
    },
    {
     "name": "stdout",
     "output_type": "stream",
     "text": [
      "2012-08-07 18:00:00 https://www.ncei.noaa.gov/thredds/dodsC/cdr/gridsat/2012/GRIDSAT-B1.2012.08.07.18.v02r01.nc\n"
     ]
    },
    {
     "name": "stderr",
     "output_type": "stream",
     "text": [
      "Note:Caching=1\n"
     ]
    },
    {
     "name": "stdout",
     "output_type": "stream",
     "text": [
      "2012-08-07 21:00:00 https://www.ncei.noaa.gov/thredds/dodsC/cdr/gridsat/2012/GRIDSAT-B1.2012.08.07.21.v02r01.nc\n"
     ]
    },
    {
     "name": "stderr",
     "output_type": "stream",
     "text": [
      "Note:Caching=1\n"
     ]
    },
    {
     "name": "stdout",
     "output_type": "stream",
     "text": [
      "2012-08-08 00:00:00 https://www.ncei.noaa.gov/thredds/dodsC/cdr/gridsat/2012/GRIDSAT-B1.2012.08.08.00.v02r01.nc\n"
     ]
    },
    {
     "name": "stderr",
     "output_type": "stream",
     "text": [
      "Note:Caching=1\n"
     ]
    },
    {
     "name": "stdout",
     "output_type": "stream",
     "text": [
      "2012-08-08 03:00:00 https://www.ncei.noaa.gov/thredds/dodsC/cdr/gridsat/2012/GRIDSAT-B1.2012.08.08.03.v02r01.nc\n"
     ]
    },
    {
     "name": "stderr",
     "output_type": "stream",
     "text": [
      "Note:Caching=1\n"
     ]
    },
    {
     "name": "stdout",
     "output_type": "stream",
     "text": [
      "2012-08-08 06:00:00 https://www.ncei.noaa.gov/thredds/dodsC/cdr/gridsat/2012/GRIDSAT-B1.2012.08.08.06.v02r01.nc\n"
     ]
    },
    {
     "name": "stderr",
     "output_type": "stream",
     "text": [
      "Note:Caching=1\n"
     ]
    },
    {
     "name": "stdout",
     "output_type": "stream",
     "text": [
      "2012-08-08 09:00:00 https://www.ncei.noaa.gov/thredds/dodsC/cdr/gridsat/2012/GRIDSAT-B1.2012.08.08.09.v02r01.nc\n"
     ]
    },
    {
     "name": "stderr",
     "output_type": "stream",
     "text": [
      "Note:Caching=1\n"
     ]
    },
    {
     "name": "stdout",
     "output_type": "stream",
     "text": [
      "2012-08-08 12:00:00 https://www.ncei.noaa.gov/thredds/dodsC/cdr/gridsat/2012/GRIDSAT-B1.2012.08.08.12.v02r01.nc\n"
     ]
    },
    {
     "name": "stderr",
     "output_type": "stream",
     "text": [
      "Note:Caching=1\n"
     ]
    },
    {
     "name": "stdout",
     "output_type": "stream",
     "text": [
      "2012-08-08 15:00:00 https://www.ncei.noaa.gov/thredds/dodsC/cdr/gridsat/2012/GRIDSAT-B1.2012.08.08.15.v02r01.nc\n"
     ]
    },
    {
     "name": "stderr",
     "output_type": "stream",
     "text": [
      "Note:Caching=1\n"
     ]
    },
    {
     "name": "stdout",
     "output_type": "stream",
     "text": [
      "2012-08-08 18:00:00 https://www.ncei.noaa.gov/thredds/dodsC/cdr/gridsat/2012/GRIDSAT-B1.2012.08.08.18.v02r01.nc\n"
     ]
    },
    {
     "name": "stderr",
     "output_type": "stream",
     "text": [
      "Note:Caching=1\n"
     ]
    },
    {
     "name": "stdout",
     "output_type": "stream",
     "text": [
      "2012-08-08 21:00:00 https://www.ncei.noaa.gov/thredds/dodsC/cdr/gridsat/2012/GRIDSAT-B1.2012.08.08.21.v02r01.nc\n"
     ]
    },
    {
     "name": "stderr",
     "output_type": "stream",
     "text": [
      "Note:Caching=1\n"
     ]
    },
    {
     "name": "stdout",
     "output_type": "stream",
     "text": [
      "2012-08-09 00:00:00 https://www.ncei.noaa.gov/thredds/dodsC/cdr/gridsat/2012/GRIDSAT-B1.2012.08.09.00.v02r01.nc\n"
     ]
    },
    {
     "name": "stderr",
     "output_type": "stream",
     "text": [
      "Note:Caching=1\n"
     ]
    },
    {
     "name": "stdout",
     "output_type": "stream",
     "text": [
      "2012-08-09 03:00:00 https://www.ncei.noaa.gov/thredds/dodsC/cdr/gridsat/2012/GRIDSAT-B1.2012.08.09.03.v02r01.nc\n"
     ]
    },
    {
     "name": "stderr",
     "output_type": "stream",
     "text": [
      "Note:Caching=1\n"
     ]
    },
    {
     "name": "stdout",
     "output_type": "stream",
     "text": [
      "2012-08-09 06:00:00 https://www.ncei.noaa.gov/thredds/dodsC/cdr/gridsat/2012/GRIDSAT-B1.2012.08.09.06.v02r01.nc\n"
     ]
    },
    {
     "name": "stderr",
     "output_type": "stream",
     "text": [
      "Note:Caching=1\n"
     ]
    },
    {
     "name": "stdout",
     "output_type": "stream",
     "text": [
      "2012-08-09 09:00:00 https://www.ncei.noaa.gov/thredds/dodsC/cdr/gridsat/2012/GRIDSAT-B1.2012.08.09.09.v02r01.nc\n"
     ]
    },
    {
     "name": "stderr",
     "output_type": "stream",
     "text": [
      "Note:Caching=1\n"
     ]
    },
    {
     "name": "stdout",
     "output_type": "stream",
     "text": [
      "2012-08-09 12:00:00 https://www.ncei.noaa.gov/thredds/dodsC/cdr/gridsat/2012/GRIDSAT-B1.2012.08.09.12.v02r01.nc\n"
     ]
    },
    {
     "name": "stderr",
     "output_type": "stream",
     "text": [
      "Note:Caching=1\n"
     ]
    },
    {
     "name": "stdout",
     "output_type": "stream",
     "text": [
      "2012-08-09 15:00:00 https://www.ncei.noaa.gov/thredds/dodsC/cdr/gridsat/2012/GRIDSAT-B1.2012.08.09.15.v02r01.nc\n"
     ]
    },
    {
     "name": "stderr",
     "output_type": "stream",
     "text": [
      "Note:Caching=1\n"
     ]
    },
    {
     "name": "stdout",
     "output_type": "stream",
     "text": [
      "2012-08-09 18:00:00 https://www.ncei.noaa.gov/thredds/dodsC/cdr/gridsat/2012/GRIDSAT-B1.2012.08.09.18.v02r01.nc\n"
     ]
    },
    {
     "name": "stderr",
     "output_type": "stream",
     "text": [
      "Note:Caching=1\n"
     ]
    },
    {
     "name": "stdout",
     "output_type": "stream",
     "text": [
      "2012-08-09 21:00:00 https://www.ncei.noaa.gov/thredds/dodsC/cdr/gridsat/2012/GRIDSAT-B1.2012.08.09.21.v02r01.nc\n"
     ]
    },
    {
     "name": "stderr",
     "output_type": "stream",
     "text": [
      "Note:Caching=1\n"
     ]
    },
    {
     "name": "stdout",
     "output_type": "stream",
     "text": [
      "2012-08-10 00:00:00 https://www.ncei.noaa.gov/thredds/dodsC/cdr/gridsat/2012/GRIDSAT-B1.2012.08.10.00.v02r01.nc\n"
     ]
    },
    {
     "name": "stderr",
     "output_type": "stream",
     "text": [
      "Note:Caching=1\n"
     ]
    },
    {
     "name": "stdout",
     "output_type": "stream",
     "text": [
      "2012-08-10 03:00:00 https://www.ncei.noaa.gov/thredds/dodsC/cdr/gridsat/2012/GRIDSAT-B1.2012.08.10.03.v02r01.nc\n"
     ]
    },
    {
     "name": "stderr",
     "output_type": "stream",
     "text": [
      "Note:Caching=1\n"
     ]
    },
    {
     "name": "stdout",
     "output_type": "stream",
     "text": [
      "2012-08-10 06:00:00 https://www.ncei.noaa.gov/thredds/dodsC/cdr/gridsat/2012/GRIDSAT-B1.2012.08.10.06.v02r01.nc\n"
     ]
    },
    {
     "name": "stderr",
     "output_type": "stream",
     "text": [
      "Note:Caching=1\n"
     ]
    },
    {
     "name": "stdout",
     "output_type": "stream",
     "text": [
      "2012-08-10 09:00:00 https://www.ncei.noaa.gov/thredds/dodsC/cdr/gridsat/2012/GRIDSAT-B1.2012.08.10.09.v02r01.nc\n"
     ]
    },
    {
     "name": "stderr",
     "output_type": "stream",
     "text": [
      "Note:Caching=1\n"
     ]
    },
    {
     "name": "stdout",
     "output_type": "stream",
     "text": [
      "2012-08-10 12:00:00 https://www.ncei.noaa.gov/thredds/dodsC/cdr/gridsat/2012/GRIDSAT-B1.2012.08.10.12.v02r01.nc\n"
     ]
    },
    {
     "name": "stderr",
     "output_type": "stream",
     "text": [
      "Note:Caching=1\n"
     ]
    },
    {
     "name": "stdout",
     "output_type": "stream",
     "text": [
      "2012-08-10 15:00:00 https://www.ncei.noaa.gov/thredds/dodsC/cdr/gridsat/2012/GRIDSAT-B1.2012.08.10.15.v02r01.nc\n"
     ]
    },
    {
     "name": "stderr",
     "output_type": "stream",
     "text": [
      "Note:Caching=1\n"
     ]
    },
    {
     "name": "stdout",
     "output_type": "stream",
     "text": [
      "2012-08-10 18:00:00 https://www.ncei.noaa.gov/thredds/dodsC/cdr/gridsat/2012/GRIDSAT-B1.2012.08.10.18.v02r01.nc\n"
     ]
    },
    {
     "name": "stderr",
     "output_type": "stream",
     "text": [
      "Note:Caching=1\n"
     ]
    },
    {
     "name": "stdout",
     "output_type": "stream",
     "text": [
      "2012-08-10 21:00:00 https://www.ncei.noaa.gov/thredds/dodsC/cdr/gridsat/2012/GRIDSAT-B1.2012.08.10.21.v02r01.nc\n"
     ]
    },
    {
     "name": "stderr",
     "output_type": "stream",
     "text": [
      "Note:Caching=1\n"
     ]
    },
    {
     "name": "stdout",
     "output_type": "stream",
     "text": [
      "2012-08-11 00:00:00 https://www.ncei.noaa.gov/thredds/dodsC/cdr/gridsat/2012/GRIDSAT-B1.2012.08.11.00.v02r01.nc\n"
     ]
    },
    {
     "name": "stderr",
     "output_type": "stream",
     "text": [
      "Note:Caching=1\n"
     ]
    },
    {
     "name": "stdout",
     "output_type": "stream",
     "text": [
      "2012-08-11 03:00:00 https://www.ncei.noaa.gov/thredds/dodsC/cdr/gridsat/2012/GRIDSAT-B1.2012.08.11.03.v02r01.nc\n"
     ]
    },
    {
     "name": "stderr",
     "output_type": "stream",
     "text": [
      "Note:Caching=1\n"
     ]
    },
    {
     "name": "stdout",
     "output_type": "stream",
     "text": [
      "2012-08-11 06:00:00 https://www.ncei.noaa.gov/thredds/dodsC/cdr/gridsat/2012/GRIDSAT-B1.2012.08.11.06.v02r01.nc\n"
     ]
    },
    {
     "name": "stderr",
     "output_type": "stream",
     "text": [
      "Note:Caching=1\n"
     ]
    },
    {
     "name": "stdout",
     "output_type": "stream",
     "text": [
      "2012-08-11 09:00:00 https://www.ncei.noaa.gov/thredds/dodsC/cdr/gridsat/2012/GRIDSAT-B1.2012.08.11.09.v02r01.nc\n"
     ]
    },
    {
     "name": "stderr",
     "output_type": "stream",
     "text": [
      "Note:Caching=1\n"
     ]
    },
    {
     "name": "stdout",
     "output_type": "stream",
     "text": [
      "2012-08-11 12:00:00 https://www.ncei.noaa.gov/thredds/dodsC/cdr/gridsat/2012/GRIDSAT-B1.2012.08.11.12.v02r01.nc\n"
     ]
    },
    {
     "name": "stderr",
     "output_type": "stream",
     "text": [
      "Note:Caching=1\n"
     ]
    },
    {
     "name": "stdout",
     "output_type": "stream",
     "text": [
      "2012-08-11 15:00:00 https://www.ncei.noaa.gov/thredds/dodsC/cdr/gridsat/2012/GRIDSAT-B1.2012.08.11.15.v02r01.nc\n"
     ]
    },
    {
     "name": "stderr",
     "output_type": "stream",
     "text": [
      "Note:Caching=1\n"
     ]
    },
    {
     "name": "stdout",
     "output_type": "stream",
     "text": [
      "2012-08-11 18:00:00 https://www.ncei.noaa.gov/thredds/dodsC/cdr/gridsat/2012/GRIDSAT-B1.2012.08.11.18.v02r01.nc\n"
     ]
    },
    {
     "name": "stderr",
     "output_type": "stream",
     "text": [
      "Note:Caching=1\n"
     ]
    },
    {
     "name": "stdout",
     "output_type": "stream",
     "text": [
      "2012-08-11 21:00:00 https://www.ncei.noaa.gov/thredds/dodsC/cdr/gridsat/2012/GRIDSAT-B1.2012.08.11.21.v02r01.nc\n"
     ]
    },
    {
     "name": "stderr",
     "output_type": "stream",
     "text": [
      "Note:Caching=1\n"
     ]
    },
    {
     "name": "stdout",
     "output_type": "stream",
     "text": [
      "2012-08-12 00:00:00 https://www.ncei.noaa.gov/thredds/dodsC/cdr/gridsat/2012/GRIDSAT-B1.2012.08.12.00.v02r01.nc\n"
     ]
    },
    {
     "name": "stderr",
     "output_type": "stream",
     "text": [
      "Note:Caching=1\n"
     ]
    },
    {
     "name": "stdout",
     "output_type": "stream",
     "text": [
      "2012-08-12 03:00:00 https://www.ncei.noaa.gov/thredds/dodsC/cdr/gridsat/2012/GRIDSAT-B1.2012.08.12.03.v02r01.nc\n"
     ]
    },
    {
     "name": "stderr",
     "output_type": "stream",
     "text": [
      "Note:Caching=1\n"
     ]
    },
    {
     "name": "stdout",
     "output_type": "stream",
     "text": [
      "2012-08-12 06:00:00 https://www.ncei.noaa.gov/thredds/dodsC/cdr/gridsat/2012/GRIDSAT-B1.2012.08.12.06.v02r01.nc\n"
     ]
    },
    {
     "name": "stderr",
     "output_type": "stream",
     "text": [
      "Note:Caching=1\n"
     ]
    },
    {
     "name": "stdout",
     "output_type": "stream",
     "text": [
      "2012-08-12 09:00:00 https://www.ncei.noaa.gov/thredds/dodsC/cdr/gridsat/2012/GRIDSAT-B1.2012.08.12.09.v02r01.nc\n"
     ]
    },
    {
     "name": "stderr",
     "output_type": "stream",
     "text": [
      "Note:Caching=1\n"
     ]
    },
    {
     "name": "stdout",
     "output_type": "stream",
     "text": [
      "2012-08-12 12:00:00 https://www.ncei.noaa.gov/thredds/dodsC/cdr/gridsat/2012/GRIDSAT-B1.2012.08.12.12.v02r01.nc\n"
     ]
    },
    {
     "name": "stderr",
     "output_type": "stream",
     "text": [
      "Note:Caching=1\n"
     ]
    },
    {
     "name": "stdout",
     "output_type": "stream",
     "text": [
      "2012-08-12 15:00:00 https://www.ncei.noaa.gov/thredds/dodsC/cdr/gridsat/2012/GRIDSAT-B1.2012.08.12.15.v02r01.nc\n"
     ]
    },
    {
     "name": "stderr",
     "output_type": "stream",
     "text": [
      "Note:Caching=1\n"
     ]
    },
    {
     "name": "stdout",
     "output_type": "stream",
     "text": [
      "2012-08-12 18:00:00 https://www.ncei.noaa.gov/thredds/dodsC/cdr/gridsat/2012/GRIDSAT-B1.2012.08.12.18.v02r01.nc\n"
     ]
    },
    {
     "name": "stderr",
     "output_type": "stream",
     "text": [
      "Note:Caching=1\n"
     ]
    },
    {
     "name": "stdout",
     "output_type": "stream",
     "text": [
      "2012-08-12 21:00:00 https://www.ncei.noaa.gov/thredds/dodsC/cdr/gridsat/2012/GRIDSAT-B1.2012.08.12.21.v02r01.nc\n"
     ]
    },
    {
     "name": "stderr",
     "output_type": "stream",
     "text": [
      "Note:Caching=1\n"
     ]
    },
    {
     "name": "stdout",
     "output_type": "stream",
     "text": [
      "2012-08-13 00:00:00 https://www.ncei.noaa.gov/thredds/dodsC/cdr/gridsat/2012/GRIDSAT-B1.2012.08.13.00.v02r01.nc\n"
     ]
    },
    {
     "name": "stderr",
     "output_type": "stream",
     "text": [
      "Note:Caching=1\n"
     ]
    },
    {
     "name": "stdout",
     "output_type": "stream",
     "text": [
      "2012-08-13 03:00:00 https://www.ncei.noaa.gov/thredds/dodsC/cdr/gridsat/2012/GRIDSAT-B1.2012.08.13.03.v02r01.nc\n"
     ]
    },
    {
     "name": "stderr",
     "output_type": "stream",
     "text": [
      "Note:Caching=1\n"
     ]
    },
    {
     "name": "stdout",
     "output_type": "stream",
     "text": [
      "2012-08-13 06:00:00 https://www.ncei.noaa.gov/thredds/dodsC/cdr/gridsat/2012/GRIDSAT-B1.2012.08.13.06.v02r01.nc\n"
     ]
    },
    {
     "name": "stderr",
     "output_type": "stream",
     "text": [
      "Note:Caching=1\n"
     ]
    },
    {
     "name": "stdout",
     "output_type": "stream",
     "text": [
      "2012-08-13 09:00:00 https://www.ncei.noaa.gov/thredds/dodsC/cdr/gridsat/2012/GRIDSAT-B1.2012.08.13.09.v02r01.nc\n"
     ]
    },
    {
     "name": "stderr",
     "output_type": "stream",
     "text": [
      "Note:Caching=1\n"
     ]
    },
    {
     "name": "stdout",
     "output_type": "stream",
     "text": [
      "2012-08-13 12:00:00 https://www.ncei.noaa.gov/thredds/dodsC/cdr/gridsat/2012/GRIDSAT-B1.2012.08.13.12.v02r01.nc\n"
     ]
    },
    {
     "name": "stderr",
     "output_type": "stream",
     "text": [
      "Note:Caching=1\n"
     ]
    },
    {
     "name": "stdout",
     "output_type": "stream",
     "text": [
      "2012-08-13 15:00:00 https://www.ncei.noaa.gov/thredds/dodsC/cdr/gridsat/2012/GRIDSAT-B1.2012.08.13.15.v02r01.nc\n"
     ]
    },
    {
     "name": "stderr",
     "output_type": "stream",
     "text": [
      "Note:Caching=1\n"
     ]
    },
    {
     "name": "stdout",
     "output_type": "stream",
     "text": [
      "2012-08-13 18:00:00 https://www.ncei.noaa.gov/thredds/dodsC/cdr/gridsat/2012/GRIDSAT-B1.2012.08.13.18.v02r01.nc\n"
     ]
    },
    {
     "name": "stderr",
     "output_type": "stream",
     "text": [
      "Note:Caching=1\n"
     ]
    },
    {
     "name": "stdout",
     "output_type": "stream",
     "text": [
      "2012-08-13 21:00:00 https://www.ncei.noaa.gov/thredds/dodsC/cdr/gridsat/2012/GRIDSAT-B1.2012.08.13.21.v02r01.nc\n"
     ]
    },
    {
     "name": "stderr",
     "output_type": "stream",
     "text": [
      "Note:Caching=1\n"
     ]
    },
    {
     "name": "stdout",
     "output_type": "stream",
     "text": [
      "2012-08-14 00:00:00 https://www.ncei.noaa.gov/thredds/dodsC/cdr/gridsat/2012/GRIDSAT-B1.2012.08.14.00.v02r01.nc\n"
     ]
    },
    {
     "name": "stderr",
     "output_type": "stream",
     "text": [
      "Note:Caching=1\n"
     ]
    },
    {
     "name": "stdout",
     "output_type": "stream",
     "text": [
      "2012-08-14 03:00:00 https://www.ncei.noaa.gov/thredds/dodsC/cdr/gridsat/2012/GRIDSAT-B1.2012.08.14.03.v02r01.nc\n"
     ]
    },
    {
     "name": "stderr",
     "output_type": "stream",
     "text": [
      "Note:Caching=1\n"
     ]
    },
    {
     "name": "stdout",
     "output_type": "stream",
     "text": [
      "2012-08-14 06:00:00 https://www.ncei.noaa.gov/thredds/dodsC/cdr/gridsat/2012/GRIDSAT-B1.2012.08.14.06.v02r01.nc\n"
     ]
    },
    {
     "name": "stderr",
     "output_type": "stream",
     "text": [
      "Note:Caching=1\n"
     ]
    },
    {
     "name": "stdout",
     "output_type": "stream",
     "text": [
      "2012-08-14 09:00:00 https://www.ncei.noaa.gov/thredds/dodsC/cdr/gridsat/2012/GRIDSAT-B1.2012.08.14.09.v02r01.nc\n"
     ]
    },
    {
     "name": "stderr",
     "output_type": "stream",
     "text": [
      "Note:Caching=1\n"
     ]
    },
    {
     "name": "stdout",
     "output_type": "stream",
     "text": [
      "2012-08-14 12:00:00 https://www.ncei.noaa.gov/thredds/dodsC/cdr/gridsat/2012/GRIDSAT-B1.2012.08.14.12.v02r01.nc\n"
     ]
    },
    {
     "name": "stderr",
     "output_type": "stream",
     "text": [
      "Note:Caching=1\n"
     ]
    },
    {
     "name": "stdout",
     "output_type": "stream",
     "text": [
      "2012-08-14 15:00:00 https://www.ncei.noaa.gov/thredds/dodsC/cdr/gridsat/2012/GRIDSAT-B1.2012.08.14.15.v02r01.nc\n"
     ]
    },
    {
     "name": "stderr",
     "output_type": "stream",
     "text": [
      "Note:Caching=1\n"
     ]
    },
    {
     "name": "stdout",
     "output_type": "stream",
     "text": [
      "2012-08-14 18:00:00 https://www.ncei.noaa.gov/thredds/dodsC/cdr/gridsat/2012/GRIDSAT-B1.2012.08.14.18.v02r01.nc\n"
     ]
    },
    {
     "name": "stderr",
     "output_type": "stream",
     "text": [
      "Note:Caching=1\n"
     ]
    },
    {
     "name": "stdout",
     "output_type": "stream",
     "text": [
      "2012-08-14 21:00:00 https://www.ncei.noaa.gov/thredds/dodsC/cdr/gridsat/2012/GRIDSAT-B1.2012.08.14.21.v02r01.nc\n"
     ]
    },
    {
     "name": "stderr",
     "output_type": "stream",
     "text": [
      "Note:Caching=1\n"
     ]
    },
    {
     "name": "stdout",
     "output_type": "stream",
     "text": [
      "2012-08-15 00:00:00 https://www.ncei.noaa.gov/thredds/dodsC/cdr/gridsat/2012/GRIDSAT-B1.2012.08.15.00.v02r01.nc\n"
     ]
    },
    {
     "name": "stderr",
     "output_type": "stream",
     "text": [
      "Note:Caching=1\n"
     ]
    },
    {
     "name": "stdout",
     "output_type": "stream",
     "text": [
      "2012-08-15 03:00:00 https://www.ncei.noaa.gov/thredds/dodsC/cdr/gridsat/2012/GRIDSAT-B1.2012.08.15.03.v02r01.nc\n"
     ]
    },
    {
     "name": "stderr",
     "output_type": "stream",
     "text": [
      "Note:Caching=1\n"
     ]
    },
    {
     "name": "stdout",
     "output_type": "stream",
     "text": [
      "2012-08-15 06:00:00 https://www.ncei.noaa.gov/thredds/dodsC/cdr/gridsat/2012/GRIDSAT-B1.2012.08.15.06.v02r01.nc\n"
     ]
    },
    {
     "name": "stderr",
     "output_type": "stream",
     "text": [
      "Note:Caching=1\n"
     ]
    },
    {
     "name": "stdout",
     "output_type": "stream",
     "text": [
      "2012-08-15 09:00:00 https://www.ncei.noaa.gov/thredds/dodsC/cdr/gridsat/2012/GRIDSAT-B1.2012.08.15.09.v02r01.nc\n"
     ]
    },
    {
     "name": "stderr",
     "output_type": "stream",
     "text": [
      "Note:Caching=1\n"
     ]
    },
    {
     "name": "stdout",
     "output_type": "stream",
     "text": [
      "2012-08-15 12:00:00 https://www.ncei.noaa.gov/thredds/dodsC/cdr/gridsat/2012/GRIDSAT-B1.2012.08.15.12.v02r01.nc\n"
     ]
    },
    {
     "name": "stderr",
     "output_type": "stream",
     "text": [
      "Note:Caching=1\n"
     ]
    },
    {
     "name": "stdout",
     "output_type": "stream",
     "text": [
      "2012-08-15 15:00:00 https://www.ncei.noaa.gov/thredds/dodsC/cdr/gridsat/2012/GRIDSAT-B1.2012.08.15.15.v02r01.nc\n"
     ]
    },
    {
     "name": "stderr",
     "output_type": "stream",
     "text": [
      "Note:Caching=1\n"
     ]
    },
    {
     "name": "stdout",
     "output_type": "stream",
     "text": [
      "2012-08-15 18:00:00 https://www.ncei.noaa.gov/thredds/dodsC/cdr/gridsat/2012/GRIDSAT-B1.2012.08.15.18.v02r01.nc\n"
     ]
    },
    {
     "name": "stderr",
     "output_type": "stream",
     "text": [
      "Note:Caching=1\n"
     ]
    },
    {
     "name": "stdout",
     "output_type": "stream",
     "text": [
      "2012-08-15 21:00:00 https://www.ncei.noaa.gov/thredds/dodsC/cdr/gridsat/2012/GRIDSAT-B1.2012.08.15.21.v02r01.nc\n"
     ]
    },
    {
     "name": "stderr",
     "output_type": "stream",
     "text": [
      "Note:Caching=1\n"
     ]
    },
    {
     "name": "stdout",
     "output_type": "stream",
     "text": [
      "2012-08-16 00:00:00 https://www.ncei.noaa.gov/thredds/dodsC/cdr/gridsat/2012/GRIDSAT-B1.2012.08.16.00.v02r01.nc\n"
     ]
    },
    {
     "name": "stderr",
     "output_type": "stream",
     "text": [
      "Note:Caching=1\n"
     ]
    },
    {
     "name": "stdout",
     "output_type": "stream",
     "text": [
      "2012-08-16 03:00:00 https://www.ncei.noaa.gov/thredds/dodsC/cdr/gridsat/2012/GRIDSAT-B1.2012.08.16.03.v02r01.nc\n"
     ]
    },
    {
     "name": "stderr",
     "output_type": "stream",
     "text": [
      "Note:Caching=1\n"
     ]
    },
    {
     "name": "stdout",
     "output_type": "stream",
     "text": [
      "2012-08-16 06:00:00 https://www.ncei.noaa.gov/thredds/dodsC/cdr/gridsat/2012/GRIDSAT-B1.2012.08.16.06.v02r01.nc\n"
     ]
    },
    {
     "name": "stderr",
     "output_type": "stream",
     "text": [
      "Note:Caching=1\n"
     ]
    },
    {
     "name": "stdout",
     "output_type": "stream",
     "text": [
      "2012-08-16 09:00:00 https://www.ncei.noaa.gov/thredds/dodsC/cdr/gridsat/2012/GRIDSAT-B1.2012.08.16.09.v02r01.nc\n"
     ]
    },
    {
     "name": "stderr",
     "output_type": "stream",
     "text": [
      "Note:Caching=1\n"
     ]
    },
    {
     "name": "stdout",
     "output_type": "stream",
     "text": [
      "2012-08-16 12:00:00 https://www.ncei.noaa.gov/thredds/dodsC/cdr/gridsat/2012/GRIDSAT-B1.2012.08.16.12.v02r01.nc\n"
     ]
    },
    {
     "name": "stderr",
     "output_type": "stream",
     "text": [
      "Note:Caching=1\n"
     ]
    },
    {
     "name": "stdout",
     "output_type": "stream",
     "text": [
      "2012-08-16 15:00:00 https://www.ncei.noaa.gov/thredds/dodsC/cdr/gridsat/2012/GRIDSAT-B1.2012.08.16.15.v02r01.nc\n"
     ]
    },
    {
     "name": "stderr",
     "output_type": "stream",
     "text": [
      "Note:Caching=1\n"
     ]
    },
    {
     "name": "stdout",
     "output_type": "stream",
     "text": [
      "2012-08-16 18:00:00 https://www.ncei.noaa.gov/thredds/dodsC/cdr/gridsat/2012/GRIDSAT-B1.2012.08.16.18.v02r01.nc\n"
     ]
    },
    {
     "name": "stderr",
     "output_type": "stream",
     "text": [
      "Note:Caching=1\n"
     ]
    },
    {
     "name": "stdout",
     "output_type": "stream",
     "text": [
      "2012-08-16 21:00:00 https://www.ncei.noaa.gov/thredds/dodsC/cdr/gridsat/2012/GRIDSAT-B1.2012.08.16.21.v02r01.nc\n"
     ]
    },
    {
     "name": "stderr",
     "output_type": "stream",
     "text": [
      "Note:Caching=1\n"
     ]
    },
    {
     "name": "stdout",
     "output_type": "stream",
     "text": [
      "2012-08-17 00:00:00 https://www.ncei.noaa.gov/thredds/dodsC/cdr/gridsat/2012/GRIDSAT-B1.2012.08.17.00.v02r01.nc\n"
     ]
    },
    {
     "name": "stderr",
     "output_type": "stream",
     "text": [
      "Note:Caching=1\n"
     ]
    },
    {
     "name": "stdout",
     "output_type": "stream",
     "text": [
      "2012-08-17 03:00:00 https://www.ncei.noaa.gov/thredds/dodsC/cdr/gridsat/2012/GRIDSAT-B1.2012.08.17.03.v02r01.nc\n"
     ]
    },
    {
     "name": "stderr",
     "output_type": "stream",
     "text": [
      "Note:Caching=1\n"
     ]
    },
    {
     "name": "stdout",
     "output_type": "stream",
     "text": [
      "2012-08-17 06:00:00 https://www.ncei.noaa.gov/thredds/dodsC/cdr/gridsat/2012/GRIDSAT-B1.2012.08.17.06.v02r01.nc\n"
     ]
    },
    {
     "name": "stderr",
     "output_type": "stream",
     "text": [
      "Note:Caching=1\n"
     ]
    },
    {
     "name": "stdout",
     "output_type": "stream",
     "text": [
      "2012-08-17 09:00:00 https://www.ncei.noaa.gov/thredds/dodsC/cdr/gridsat/2012/GRIDSAT-B1.2012.08.17.09.v02r01.nc\n"
     ]
    },
    {
     "name": "stderr",
     "output_type": "stream",
     "text": [
      "Note:Caching=1\n"
     ]
    },
    {
     "name": "stdout",
     "output_type": "stream",
     "text": [
      "2012-08-17 12:00:00 https://www.ncei.noaa.gov/thredds/dodsC/cdr/gridsat/2012/GRIDSAT-B1.2012.08.17.12.v02r01.nc\n"
     ]
    },
    {
     "name": "stderr",
     "output_type": "stream",
     "text": [
      "Note:Caching=1\n"
     ]
    },
    {
     "name": "stdout",
     "output_type": "stream",
     "text": [
      "2012-08-17 15:00:00 https://www.ncei.noaa.gov/thredds/dodsC/cdr/gridsat/2012/GRIDSAT-B1.2012.08.17.15.v02r01.nc\n"
     ]
    },
    {
     "name": "stderr",
     "output_type": "stream",
     "text": [
      "Note:Caching=1\n"
     ]
    }
   ],
   "source": [
    "# Loop from first time until last, they are 6 hourly so loop is twice that length\n",
    "Images_per_6h = 2 \n",
    "\n",
    "# Get the times and interpolated center positions\n",
    "ntimes = n6htimes*Images_per_6h   # 3-hourly gridsat, equally spaced Timedelta(hours=3)\n",
    "interpolated_lon = lon_s.interp(time=np.linspace(lon_s.time.values[0].astype('int64'), \n",
    "                                                 lon_s.time.values[-1].astype('int64'), \n",
    "                                                 lon_s.size * Images_per_6h).astype('datetime64[ns]'))\n",
    "interpolated_lat = lat_s.interp(time=np.linspace(lat_s.time.values[0].astype('int64'), \n",
    "                                                 lat_s.time.values[-1].astype('int64'), \n",
    "                                                 lat_s.size * Images_per_6h).astype('datetime64[ns]'))\n",
    "\n",
    "for i in range(ntimes):\n",
    "    datePlot = date0 + i*pd.Timedelta(hours=3)\n",
    "    YYYY = datePlot.strftime('%Y')            # Year, needed for URL\n",
    "    \n",
    "# if accessing from ncei\n",
    "    url_base = 'https://www.ncei.noaa.gov/thredds/dodsC/cdr/gridsat/' + YYYY + '/'\n",
    "    url = url_base + \"GRIDSAT-B1.\"  + datePlot.strftime('%Y.%m.%d.%H')  + \".v02r01.nc\"\n",
    "    print(datePlot, url)\n",
    "\n",
    "# Define center point for image at this time \n",
    "    centlon = interpolated_lon[i]; \n",
    "    centlat = interpolated_lat[i]; \n",
    "\n",
    "# sel() the box \n",
    "    ds = xr.open_dataset(url)\n",
    "    LatIndexer, LonIndexer = 'lat', 'lon'\n",
    "    dsbox = ds.sel(**{LatIndexer: slice(centlat-dlat, centlat+dlat),\n",
    "                      LonIndexer: slice(centlon-dlon, centlon+dlon)})\n",
    "# Write it out\n",
    "    dsbox.to_netcdf('~/Box/Sky_Symphony_Box/ERNESTO12/GridSatBoxes/time'+str(i).zfill(3)+'.nc')   "
   ]
  },
  {
   "cell_type": "code",
   "execution_count": null,
   "id": "3966966e-80b4-446f-a50e-fba11aba4ba0",
   "metadata": {},
   "outputs": [],
   "source": []
  },
  {
   "cell_type": "code",
   "execution_count": null,
   "id": "f942a36f-b96f-480a-adb2-30b96e19ceda",
   "metadata": {},
   "outputs": [],
   "source": []
  },
  {
   "cell_type": "code",
   "execution_count": null,
   "id": "890bc03e-7249-4d2d-8efe-e011bde69294",
   "metadata": {},
   "outputs": [],
   "source": []
  },
  {
   "cell_type": "code",
   "execution_count": null,
   "id": "fbf474b5-7590-4a92-87e2-e57212244b7c",
   "metadata": {},
   "outputs": [],
   "source": []
  },
  {
   "cell_type": "code",
   "execution_count": null,
   "id": "427362fb-7a62-43c8-8f62-ea579c8ab79a",
   "metadata": {},
   "outputs": [],
   "source": []
  },
  {
   "cell_type": "code",
   "execution_count": null,
   "id": "0873991a-de72-4ed2-b0c4-5efa62cf2e8b",
   "metadata": {},
   "outputs": [],
   "source": []
  }
 ],
 "metadata": {
  "kernelspec": {
   "display_name": "Python 3 (ipykernel)",
   "language": "python",
   "name": "python3"
  },
  "language_info": {
   "codemirror_mode": {
    "name": "ipython",
    "version": 3
   },
   "file_extension": ".py",
   "mimetype": "text/x-python",
   "name": "python",
   "nbconvert_exporter": "python",
   "pygments_lexer": "ipython3",
   "version": "3.12.10"
  }
 },
 "nbformat": 4,
 "nbformat_minor": 5
}

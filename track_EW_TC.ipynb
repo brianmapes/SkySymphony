{
 "cells": [
  {
   "cell_type": "markdown",
   "id": "d64a0daf-714b-4e38-b09a-95acfc5dcb0c",
   "metadata": {},
   "source": [
    "### Basic code to read easterly wave tracks by Lawton et al (2022) and pot a track that matches user specified tropical storm (if available in the track database)\n",
    "\n",
    "\n",
    "- Lawton, Q. A., S. J. Majumdar, K. Dotterer, C. Thorncroft, and C. J. Schreck, 2022: The Influence of Convectively Coupled Kelvin Waves on African Easterly Waves in a Wave-Following Framework. Monthly Weather Review, 150(8), 2055-2072, https://doi.org/10.1175/MWR-D-21-0321.1.\n",
    "\n",
    "\n",
    "- NCSU Tropical and Large Scale Dynamics\n",
    "- A. Aiyyer"
   ]
  },
  {
   "cell_type": "code",
   "execution_count": null,
   "id": "e9280e98-9074-4358-bf03-8ce5fea8b0db",
   "metadata": {},
   "outputs": [],
   "source": [
    "import numpy as np\n",
    "import xarray as xr\n",
    "from datetime import date, timedelta, datetime\n",
    "import pandas as pd\n",
    "import matplotlib.pyplot as plt\n",
    "import cartopy.crs as ccrs\n",
    "import cartopy.feature as cfeature\n",
    "\n",
    "import matplotlib.animation as animation\n",
    "# convert the animation to javascript for display\n",
    "#plt.rcParams[\"animation.html\"] = \"jshtml\"\n",
    "import geocat.viz.util as gvutil\n",
    "from cartopy.mpl.gridliner import LONGITUDE_FORMATTER, LATITUDE_FORMATTER\n",
    "from cartopy.mpl.ticker import LongitudeFormatter, LatitudeFormatter\n",
    "plt.rcParams['animation.embed_limit'] = 2**128\n",
    "from metpy.plots import colortables"
   ]
  },
  {
   "cell_type": "code",
   "execution_count": null,
   "id": "b53caaf4-5a26-4e73-93d5-ef56c8acc5c7",
   "metadata": {},
   "outputs": [],
   "source": [
    "# get the easterly wave track data from https://zenodo.org/records/13350860\n",
    "\n",
    "# location of the data on the local machine:\n",
    "track_data_path = \"/Users/bmapes/GitHub/SkySymphony/ERA5_AEW_TRACKS/\"\n",
    "file_prefix = \"AEW_tracks_post_processed_year_\""
   ]
  },
  {
   "cell_type": "code",
   "execution_count": null,
   "id": "4913cb92-0ba4-4ef4-8e83-9a09cb6bda44",
   "metadata": {},
   "outputs": [],
   "source": [
    "# Select storm \n",
    "storm_Name = \"DOLLY\"\n",
    "storm_Year = 2008\n",
    "\n",
    "# Select storm\n",
    "storm_Name = \"IRMA\"\n",
    "storm_Year = 2017\n",
    "\n",
    "# Select storm\n",
    "storm_Name = \"ERNESTO\"\n",
    "storm_Year = 2012\n"
   ]
  },
  {
   "cell_type": "code",
   "execution_count": null,
   "id": "30b157ce-3b54-4114-a5b1-7fd6d2f6e4d3",
   "metadata": {},
   "outputs": [],
   "source": [
    "fileName = track_data_path +  file_prefix + str(storm_Year) + '.nc'\n",
    "ds = xr.open_dataset(fileName)"
   ]
  },
  {
   "cell_type": "code",
   "execution_count": null,
   "id": "96b93334-096a-4b63-90fa-ec8f9af0f1fc",
   "metadata": {},
   "outputs": [],
   "source": [
    "lon = ds.AEW_lon\n",
    "lat = ds.AEW_lat\n",
    "n_waves = lon.shape[0]\n",
    "print(n_waves)"
   ]
  },
  {
   "cell_type": "code",
   "execution_count": null,
   "id": "d2d1cbd5-5602-4c64-ad98-c54badcc1b8b",
   "metadata": {},
   "outputs": [],
   "source": [
    "idx = np.where(ds.TC_name == storm_Name)[0]\n",
    "\n",
    "if idx.shape == (0,):\n",
    "   print (\"No storm match found\")\n",
    "else:\n",
    "    istorm = idx[0]\n",
    "    print(istorm, storm_Name)"
   ]
  },
  {
   "cell_type": "code",
   "execution_count": null,
   "id": "c1778aab-3ff9-4671-8a4b-f1ea2f97978e",
   "metadata": {},
   "outputs": [],
   "source": [
    "#locate a specific TC\n",
    "lon_s = ds.AEW_lon.isel(system=istorm).dropna(dim='time')\n",
    "lat_s =  ds.AEW_lat.isel(system=istorm).dropna(dim='time')\n",
    "TC_genesis_time = ds.TC_gen_time.isel(system=istorm)\n",
    "#locate the track index where the wave becomes a TC\n",
    "idt = np.where(lat_s.time == TC_genesis_time)[0][0]\n",
    "print(\"Storm genesis at \", idt, TC_genesis_time.values)"
   ]
  },
  {
   "cell_type": "code",
   "execution_count": null,
   "id": "0ab27e07-b78e-41b7-bbc7-0ac62d307921",
   "metadata": {},
   "outputs": [],
   "source": [
    "# PLOT the track of the wave + TC"
   ]
  },
  {
   "cell_type": "code",
   "execution_count": null,
   "id": "fca7c610-d13f-4b78-a752-3e46cf61be65",
   "metadata": {},
   "outputs": [],
   "source": [
    "fig = plt.figure(figsize=(10, 6))\n",
    "proj = ccrs.PlateCarree()  # cylindrical equidistant\n",
    "ax = fig.add_subplot(1, 1, 1, projection=proj)\n",
    "# Add coastlines and gridlines\n",
    "ax.coastlines()\n",
    "#ax.add_feature(cfeature.BORDERS, linestyle=':')\n",
    "ax.gridlines(draw_labels=True, dms=True, x_inline=False, y_inline=False)\n",
    "# Plot  wave track\n",
    "ax.plot(lon_s, lat_s, marker='none', markersize=2, transform=ccrs.PlateCarree())\n",
    "ax.plot(lon_s[idt:], lat_s[idt:], marker='o', markersize=4, transform=ccrs.PlateCarree())\n",
    "plt.title(storm_Name + \": Wave Track\", fontsize=14)\n",
    "plt.show()"
   ]
  },
  {
   "cell_type": "code",
   "execution_count": null,
   "id": "e9d8bb53-1e11-4a90-adba-7dea847a1130",
   "metadata": {},
   "outputs": [],
   "source": [
    "# now download and animate gridsat ir images"
   ]
  },
  {
   "cell_type": "code",
   "execution_count": null,
   "id": "fa44abb6-a037-498d-8662-a43d0b06720f",
   "metadata": {},
   "outputs": [],
   "source": [
    "dates=lon_s.time.values\n",
    "date_storm = pd.to_datetime(dates[0])"
   ]
  },
  {
   "cell_type": "raw",
   "id": "f4752a1f-4fe8-4cbd-8ea3-684a56436557",
   "metadata": {},
   "source": [
    "# download and save ALL THE FULL DISK data locally\n",
    "# currently this cell is disabled. Mark as code to get this cell to work\n",
    "ntimes = lon_s.time.size\n",
    "for i in range (0, ntimes):\n",
    "    datePlot = date_storm + pd.Timedelta(days=i*.25) # every 6 hours\n",
    "    Y = datePlot.strftime('%Y')\n",
    "    url_base = 'https://www.ncei.noaa.gov/thredds/dodsC/cdr/gridsat/' + Y + '/'  \n",
    "    #url_base = '/home/sagan/work/data/data100/data/gridsat/data/'\n",
    "    url = url_base + \"GRIDSAT-B1.\"  + datePlot.strftime('%Y.%m.%d.%H')  + \".v02r01.nc\" \n",
    "    ds = xr.open_dataset(url)\n",
    "    fpath = \"GRIDSAT-B1.\"  + datePlot.strftime('%Y.%m.%d.%H')  + \".v02r01.nc\" \n",
    "    ds.to_netcdf(path=fpath, mode='w')\n",
    "    print(fpath)\n"
   ]
  },
  {
   "cell_type": "code",
   "execution_count": null,
   "id": "d42c9b6f-99e8-41f7-bd95-9bc2c1eb24da",
   "metadata": {},
   "outputs": [],
   "source": [
    "# set the min and max values to shade in the IR brightness temperature field\n",
    "Cmin=  170\n",
    "Cmax = 300\n",
    "Cint = 10\n",
    "\n",
    "#------------------------------------------------\n",
    "# ATL and EPAC\n",
    "min_lon = -140.\n",
    "max_lon =   30.\n",
    "delta_lon = 20.\n",
    "min_lat = -10.\n",
    "max_lat =  45.\n",
    "#--------------------------------------------\n",
    "central_lon = .5*(min_lon + max_lon)\n",
    "ntimes = lon_s.size"
   ]
  },
  {
   "cell_type": "code",
   "execution_count": null,
   "id": "7afa89cf-aec2-4c69-9eed-b5f998234432",
   "metadata": {},
   "outputs": [],
   "source": []
  },
  {
   "cell_type": "code",
   "execution_count": null,
   "id": "e9599af8-ee86-449f-a308-71f5da4256ea",
   "metadata": {},
   "outputs": [],
   "source": [
    "def animate(i,min_lon,max_lon,min_lat,max_lat,Cmin,Cmax):\n",
    "    central_lon = .5*(min_lon + max_lon)\n",
    "    delta_lon = 20.\n",
    "    #datePlot = date_storm + pd.Timedelta(days=i*.25)\n",
    "    datePlot = pd.to_datetime(dates[i])\n",
    "    Y = datePlot.strftime('%Y')\n",
    "    # if accessing from ncei\n",
    "    url_base = 'https://www.ncei.noaa.gov/thredds/dodsC/cdr/gridsat/' + Y + '/'\n",
    "    # if locally downloaded\n",
    "    #url_base = '../data/dolly2008/'\n",
    "   \n",
    "    url = url_base + \"GRIDSAT-B1.\"  + datePlot.strftime('%Y.%m.%d.%H')  + \".v02r01.nc\"\n",
    "    cmap = colortables.get_colortable('ir_tv1')\n",
    "    print(\" here \", i , url )\n",
    "    ds = xr.open_dataset(url)\n",
    "    LatIndexer, LonIndexer = 'lat', 'lon'\n",
    "    irwin = ds.irwin_cdr[0,:,:].sel(**{LatIndexer: slice(min_lat, max_lat),\n",
    "                        LonIndexer: slice(min_lon, max_lon)})\n",
    "    print(irwin.min().values)\n",
    "    ct=plt.imshow(irwin, cmap=cmap, origin='lower', vmin=Cmin,vmax=Cmax,extent=[min_lon, max_lon,min_lat, max_lat])\n",
    " \n",
    "    gvutil.set_titles_and_labels(ax,\n",
    "                                 lefttitle=datePlot.strftime('%Y-%H-%d %H UTC'),\n",
    "                                 righttitlefontsize=12,\n",
    "                                 righttitle=\"11 micron BT (K)\",\n",
    "                                 lefttitlefontsize=12,\n",
    "                                 xlabel=\"\",\n",
    "                                 ylabel=\"\")\n",
    "    #ct = plt.pcolormesh(lons, lats, irwin[:-1,:-1],cmap='Greys', rasterized=True, vmin=Cmin, vmax =Cmax, shading='flat')\n",
    "    plt.title(datePlot, y=1.2)\n",
    "    "
   ]
  },
  {
   "cell_type": "code",
   "execution_count": null,
   "id": "eeb134f1-b854-4a20-806b-7b1201c69dfc",
   "metadata": {},
   "outputs": [],
   "source": [
    "plt.rcParams[\"animation.html\"] = \"jshtml\"\n",
    "plt.rcParams['figure.dpi'] = 150  \n",
    "plt.ioff()\n",
    "\n",
    "transform = ccrs.PlateCarree()\n",
    "\n",
    "#fig = plt.figure(figsize=(18,6))\n",
    "fig = plt.figure(figsize=(10,5))\n",
    "\n",
    "# Generate axes, using Cartopy, drawing coastlines, and adding features\n",
    "projection = ccrs.PlateCarree()\n",
    "ax = plt.axes(projection=projection)\n",
    "ax.coastlines(linewidths=0.75, color='black')\n",
    "\n",
    "i=0\n",
    "Y = date_storm.strftime('%Y')\n",
    "url_base = 'https://www.ncei.noaa.gov/thredds/dodsC/cdr/gridsat/' + Y + '/'\n",
    "#url_base = '../data/dolly2008/'\n",
    "url = url_base + \"GRIDSAT-B1.\"  + date_storm.strftime('%Y.%m.%d.%H')  + \".v02r01.nc\"\n",
    "cmap = colortables.get_colortable('ir_tv1')\n",
    "print(\" here \", i , url )\n",
    "ds = xr.open_dataset(url)\n",
    "\n",
    "LatIndexer, LonIndexer = 'lat', 'lon'\n",
    "irwin = ds.irwin_cdr[0,:,:].sel(**{LatIndexer: slice(min_lat, max_lat),\n",
    "                    LonIndexer: slice(min_lon, max_lon)})\n",
    "ct=plt.imshow(irwin[:-1,:-1], cmap=cmap, origin='lower', vmin=Cmin,vmax=Cmax,extent=[min_lon, max_lon,min_lat, max_lat])\n",
    "\n",
    "print(irwin.min().values)\n",
    "# Add color bar\n",
    "cbar_ticks = np.arange(Cmin,Cmax,Cint)\n",
    "cbar = plt.colorbar(ct,\n",
    "                    orientation='horizontal',\n",
    "                    shrink=0.95 ,aspect=30,\n",
    "                    pad=0.15,\n",
    "                    extendrect=True,\n",
    "                    ticks=cbar_ticks)\n",
    "\n",
    "cbar.ax.tick_params(labelsize=10)  \n",
    "\n",
    "# Use geocat.viz.util convenience function to set axes limit\n",
    "gvutil.set_axes_limits_and_ticks(ax,\n",
    "                                xlim=(min_lon, max_lon),\n",
    "                                ylim=(min_lat, max_lat),\n",
    "                                xticks=np.linspace(min_lon,max_lon, 5),\n",
    "                                yticks=np.linspace(min_lat,max_lat, 5))\n",
    "\n",
    "# Use geocat.viz.util convenience function to add major tick lines\n",
    "gvutil.add_major_minor_ticks(ax, y_minor_per_major=1, labelsize=12)\n",
    "\n",
    "# Use geocat.viz.util convenience function to add lat and lon tick labels\n",
    "gvutil.add_lat_lon_ticklabels(ax)\n",
    "\n",
    "# Remove degree symbol from tick label\n",
    "ax.yaxis.set_major_formatter(LatitudeFormatter(degree_symbol=''))\n",
    "ax.xaxis.set_major_formatter(LongitudeFormatter(degree_symbol=''))\n",
    "# Use geocat.viz.util convenience function to set titles and labels\n",
    "\n",
    "\n",
    "#---------------------------------------------------------------------------------------------------\n",
    "animArgs = (min_lon,max_lon,min_lat,max_lat,Cmin,Cmax)\n",
    "# runs the animation initiated with the frame from init and progressed with the animate function\n",
    "anim = animation.FuncAnimation(fig,animate,frames=ntimes, interval=200, fargs=animArgs)\n",
    "\n",
    "\n",
    "\n",
    "\n",
    "\n",
    "anim    "
   ]
  },
  {
   "cell_type": "code",
   "execution_count": null,
   "id": "ce967463-40e5-4e56-a951-0bdc240a0b0b",
   "metadata": {},
   "outputs": [],
   "source": [
    "anim"
   ]
  },
  {
   "cell_type": "code",
   "execution_count": null,
   "id": "8ccd4d5b-7a83-4324-a2db-51c1519f517f",
   "metadata": {},
   "outputs": [],
   "source": []
  }
 ],
 "metadata": {
  "kernelspec": {
   "display_name": "Python 3 (ipykernel)",
   "language": "python",
   "name": "python3"
  },
  "language_info": {
   "codemirror_mode": {
    "name": "ipython",
    "version": 3
   },
   "file_extension": ".py",
   "mimetype": "text/x-python",
   "name": "python",
   "nbconvert_exporter": "python",
   "pygments_lexer": "ipython3",
   "version": "3.12.10"
  }
 },
 "nbformat": 4,
 "nbformat_minor": 5
}
